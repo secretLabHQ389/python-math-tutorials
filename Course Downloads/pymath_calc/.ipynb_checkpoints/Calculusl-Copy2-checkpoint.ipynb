{
 "cells": [
  {
   "cell_type": "code",
   "execution_count": 2,
   "metadata": {},
   "outputs": [],
   "source": [
    "import sympy as sym\n",
    "import matplotlib.pyplot as plt\n",
    "import numpy as np\n",
    "from IPython.display import display,Math"
   ]
  },
  {
   "cell_type": "code",
   "execution_count": null,
   "metadata": {},
   "outputs": [],
   "source": [
    "x = sym.symbols('x')\n",
    "fx = x**3\n",
    "# lim_pnt = 1.5\n",
    "lim = sym.limit(fx,x,lim_pnt)\n",
    "\n",
    "display(Math('\\\\lim_{x\\\\to %g} %s = %g' %(lim_pnt,sym.latex(fx),lim)))\n",
    "print(1.5**3)"
   ]
  },
  {
   "cell_type": "code",
   "execution_count": null,
   "metadata": {},
   "outputs": [],
   "source": [
    "fxx = sym.lambdify(x,fx)\n",
    "xx = np.linspace(-5,5,200)\n",
    "# fxx()\n",
    "plt.plot(xx,fxx(xx))\n",
    "plt.plot(lim_pnt,lim,'ro')\n",
    "\n",
    "plt.show()"
   ]
  },
  {
   "cell_type": "code",
   "execution_count": null,
   "metadata": {},
   "outputs": [],
   "source": [
    "fx = (x**2)/(x-2)\n",
    "fxx = sym.lambdify(x,fx)\n",
    "xx = np.linspace(1,3,102)\n",
    "\n",
    "lim_pnt = 2\n",
    "lim = sym.limit(fx,x,lim_pnt,dir='-')\n",
    "plt.plot(xx,fxx(xx))\n",
    "display(Math('\\\\lim_{x\\\\to %g^-} %s = %g' %(lim_pnt,sym.latex(fx),lim)))"
   ]
  },
  {
   "cell_type": "code",
   "execution_count": null,
   "metadata": {},
   "outputs": [],
   "source": [
    "# Lect 119 my try (Correct after fixing sym.exp syntax typo)-\n",
    "\n",
    "x = sym.symbols('x')\n",
    "tx = sym.exp(-x)*sym.sqrt(x+1)\n",
    "gx = sym.cos(x+sym.sin(x))\n",
    "ac = tx/gx\n",
    "\n",
    "lim_pnt_h = 5\n",
    "lim_h = (sym.limit(tx,x,lim_pnt_h)) / (sym.limit(gx,x,lim_pnt_h))\n",
    "print(lim_h)\n",
    "lim_pj = sym.limit(ac,x,lim_pnt_h)\n",
    "print(lim_pj)\n",
    "lp = lim_h - lim_pj\n",
    "print(lp)"
   ]
  },
  {
   "cell_type": "code",
   "execution_count": null,
   "metadata": {},
   "outputs": [],
   "source": [
    "# Lect 119 ans-\n",
    "x = sym.symbols('x')\n",
    "ht = sym.sqrt(x+1)*sym.exp(-x)\n",
    "kj = sym.cos(x+sym.sin(x))\n",
    "fxc = sym.lambdify(x,ht)\n",
    "fxj = sym.lambdify(x,kj)\n",
    "xc = np.linspace(0,10,100)\n",
    "plt.plot(xc,fxc(xc),label='f(x)')\n",
    "plt.plot(xc,fxj(xc),label='g(x)')\n",
    "plt.legend()\n",
    "plt.show()\n",
    "\n",
    "# Compute limits separately with lim of 5\n",
    "lim_ptn = 5\n",
    "lim_fxg = sym.limit(ht,x,lim_ptn)\n",
    "lim_gxg = sym.limit(kj,x,lim_ptn)\n",
    "# Compute limit of both\n",
    "hgf = ht/kj\n",
    "lim_pjq = sym.limit(hgf,x,lim_pnt_h)\n",
    "lim_tgt = sym.limit(hgf,x,lim_ptn)\n",
    "display(Math('\\\\frac{\\\\lim_{x \\\\to %g} f(x)}{\\\\lim_{x \\\\to %g} g(x)} = \\\\frac{%g}{%g} = %g' \\\n",
    "             %(lim_ptn,lim_ptn,lim_fxg,lim_gxg,lim_pjq)))\n",
    "display(Math('\\\\lim_{x\\\\to %g} \\\\frac{f(x)}{g(x)} = %g' %(lim_ptn,lim_pjq)))\n"
   ]
  },
  {
   "cell_type": "code",
   "execution_count": null,
   "metadata": {},
   "outputs": [],
   "source": [
    "from sympy.abc import x\n",
    "\n",
    "piece1 = 0\n",
    "piece2 = -2*x\n",
    "piece3 = x**3/10\n",
    "\n",
    "fx = sym.Piecewise( (piece1,x<0),(piece2,(x>=0)&(x<10)),(piece3,x>=10) )\n",
    "fxd = sym.lambdify(x,fx)\n",
    "xx = np.linspace(-3,15,1234)\n",
    "\n",
    "plt.plot(xx,fxd(xx))"
   ]
  },
  {
   "cell_type": "code",
   "execution_count": 4,
   "metadata": {},
   "outputs": [
    {
     "name": "stderr",
     "output_type": "stream",
     "text": [
      "<lambdifygenerated-2>:2: RuntimeWarning: invalid value encountered in log\n",
      "  return (select([less_equal(x, 0),True], [x**3,log(x)/log(2)], default=nan))\n"
     ]
    },
    {
     "data": {
      "text/plain": [
       "[<matplotlib.lines.Line2D at 0x7feec627a190>]"
      ]
     },
     "execution_count": 4,
     "metadata": {},
     "output_type": "execute_result"
    },
    {
     "data": {
      "image/png": "[encoded data removed]",
      "text/plain": [
       "<Figure size 432x288 with 1 Axes>"
      ]
     },
     "metadata": {
      "needs_background": "light"
     },
     "output_type": "display_data"
    }
   ],
   "source": [
    "piece1 = x**3\n",
    "piece2 = sym.log(x,2)\n",
    "fx = sym.Piecewise((piece1,x<=0),(piece2,x>0))\n",
    "fds = sym.lambdify(x,fx)\n",
    "ol = np.linspace(-3,15,1234)\n",
    "plt.plot(ol,fds(ol))"
   ]
  },
  {
   "cell_type": "code",
   "execution_count": 3,
   "metadata": {},
   "outputs": [
    {
     "data": {
      "text/latex": [
       "$\\displaystyle f(x) = \\begin{cases} x^{3} & \\text{for}\\: x \\leq 0 \\\\\\frac{\\log{\\left(x \\right)}}{\\log{\\left(2 \\right)}} & \\text{otherwise} \\end{cases}$"
      ],
      "text/plain": [
       "<IPython.core.display.Math object>"
      ]
     },
     "metadata": {},
     "output_type": "display_data"
    },
    {
     "ename": "NameError",
     "evalue": "name 'xx' is not defined",
     "output_type": "error",
     "traceback": [
      "\u001b[0;31m---------------------------------------------------------------------------\u001b[0m",
      "\u001b[0;31mNameError\u001b[0m                                 Traceback (most recent call last)",
      "\u001b[0;32m<ipython-input-3-67574a07d312>\u001b[0m in \u001b[0;36m<module>\u001b[0;34m\u001b[0m\n\u001b[1;32m      7\u001b[0m \u001b[0;31m# plt.xkcd() #remains activated for rest of notebook until de-activated\u001b[0m\u001b[0;34m\u001b[0m\u001b[0;34m\u001b[0m\u001b[0;34m\u001b[0m\u001b[0m\n\u001b[1;32m      8\u001b[0m \u001b[0;32mwith\u001b[0m \u001b[0mplt\u001b[0m\u001b[0;34m.\u001b[0m\u001b[0mxkcd\u001b[0m\u001b[0;34m(\u001b[0m\u001b[0;34m)\u001b[0m\u001b[0;34m:\u001b[0m\u001b[0;34m\u001b[0m\u001b[0;34m\u001b[0m\u001b[0m\n\u001b[0;32m----> 9\u001b[0;31m     \u001b[0mplt\u001b[0m\u001b[0;34m.\u001b[0m\u001b[0mplot\u001b[0m\u001b[0;34m(\u001b[0m\u001b[0mxx\u001b[0m\u001b[0;34m,\u001b[0m\u001b[0mfxx\u001b[0m\u001b[0;34m(\u001b[0m\u001b[0mxx\u001b[0m\u001b[0;34m)\u001b[0m\u001b[0;34m,\u001b[0m\u001b[0;34m'k'\u001b[0m\u001b[0;34m)\u001b[0m\u001b[0;34m\u001b[0m\u001b[0;34m\u001b[0m\u001b[0m\n\u001b[0m\u001b[1;32m     10\u001b[0m     \u001b[0mplt\u001b[0m\u001b[0;34m.\u001b[0m\u001b[0mxlim\u001b[0m\u001b[0;34m(\u001b[0m\u001b[0;34m[\u001b[0m\u001b[0;34m-\u001b[0m\u001b[0;36m2\u001b[0m\u001b[0;34m,\u001b[0m\u001b[0;36m2\u001b[0m\u001b[0;34m]\u001b[0m\u001b[0;34m)\u001b[0m\u001b[0;34m\u001b[0m\u001b[0;34m\u001b[0m\u001b[0m\n\u001b[1;32m     11\u001b[0m     \u001b[0mplt\u001b[0m\u001b[0;34m.\u001b[0m\u001b[0mylim\u001b[0m\u001b[0;34m(\u001b[0m\u001b[0;34m[\u001b[0m\u001b[0;34m-\u001b[0m\u001b[0;36m10\u001b[0m\u001b[0;34m,\u001b[0m\u001b[0;36m3\u001b[0m\u001b[0;34m]\u001b[0m\u001b[0;34m)\u001b[0m\u001b[0;34m\u001b[0m\u001b[0;34m\u001b[0m\u001b[0m\n",
      "\u001b[0;31mNameError\u001b[0m: name 'xx' is not defined"
     ]
    }
   ],
   "source": [
    "f1 = x**3\n",
    "f2 = sym.log(x,2)\n",
    "fx = sym.Piecewise((f1,x<=0),(f2,x>0))\n",
    "fxx = sym.lambdify(x,fx)\n",
    "display(Math('f(x) = ' + sym.latex(fx)))\n",
    "\n",
    "# plt.xkcd() #remains activated for rest of notebook until de-activated\n",
    "with plt.xkcd():\n",
    "    plt.plot(xx,fxx(xx),'k')\n",
    "    plt.xlim([-2,2])\n",
    "    plt.ylim([-10,3])\n",
    "    plt.show()"
   ]
  },
  {
   "cell_type": "code",
   "execution_count": 1,
   "metadata": {},
   "outputs": [
    {
     "ename": "NameError",
     "evalue": "name 'lim_pnt' is not defined",
     "output_type": "error",
     "traceback": [
      "\u001b[0;31m---------------------------------------------------------------------------\u001b[0m",
      "\u001b[0;31mNameError\u001b[0m                                 Traceback (most recent call last)",
      "\u001b[0;32m<ipython-input-1-38c9fc060738>\u001b[0m in \u001b[0;36m<module>\u001b[0;34m\u001b[0m\n\u001b[1;32m      7\u001b[0m \u001b[0mfx\u001b[0m \u001b[0;34m=\u001b[0m \u001b[0mx\u001b[0m\u001b[0;34m**\u001b[0m\u001b[0;36m3\u001b[0m\u001b[0;34m\u001b[0m\u001b[0;34m\u001b[0m\u001b[0m\n\u001b[1;32m      8\u001b[0m \u001b[0;31m# lim_pnt = 1.5\u001b[0m\u001b[0;34m\u001b[0m\u001b[0;34m\u001b[0m\u001b[0;34m\u001b[0m\u001b[0m\n\u001b[0;32m----> 9\u001b[0;31m \u001b[0mlim\u001b[0m \u001b[0;34m=\u001b[0m \u001b[0msym\u001b[0m\u001b[0;34m.\u001b[0m\u001b[0mlimit\u001b[0m\u001b[0;34m(\u001b[0m\u001b[0mfx\u001b[0m\u001b[0;34m,\u001b[0m\u001b[0mx\u001b[0m\u001b[0;34m,\u001b[0m\u001b[0mlim_pnt\u001b[0m\u001b[0;34m)\u001b[0m\u001b[0;34m\u001b[0m\u001b[0;34m\u001b[0m\u001b[0m\n\u001b[0m\u001b[1;32m     10\u001b[0m \u001b[0;34m\u001b[0m\u001b[0m\n\u001b[1;32m     11\u001b[0m \u001b[0mdisplay\u001b[0m\u001b[0;34m(\u001b[0m\u001b[0mMath\u001b[0m\u001b[0;34m(\u001b[0m\u001b[0;34m'\\\\lim_{x\\\\to %g} %s = %g'\u001b[0m \u001b[0;34m%\u001b[0m\u001b[0;34m(\u001b[0m\u001b[0mlim_pnt\u001b[0m\u001b[0;34m,\u001b[0m\u001b[0msym\u001b[0m\u001b[0;34m.\u001b[0m\u001b[0mlatex\u001b[0m\u001b[0;34m(\u001b[0m\u001b[0mfx\u001b[0m\u001b[0;34m)\u001b[0m\u001b[0;34m,\u001b[0m\u001b[0mlim\u001b[0m\u001b[0;34m)\u001b[0m\u001b[0;34m)\u001b[0m\u001b[0;34m)\u001b[0m\u001b[0;34m\u001b[0m\u001b[0;34m\u001b[0m\u001b[0m\n",
      "\u001b[0;31mNameError\u001b[0m: name 'lim_pnt' is not defined"
     ]
    }
   ],
   "source": [
    "import sympy as sym\n",
    "import matplotlib.pyplot as plt\n",
    "import numpy as np\n",
    "from IPython.display import display,Math\n",
    "\n",
    "x = sym.symbols('x')\n",
    "fx = x**3\n",
    "# lim_pnt = 1.5\n",
    "lim = sym.limit(fx,x,lim_pnt)\n",
    "\n",
    "display(Math('\\\\lim_{x\\\\to %g} %s = %g' %(lim_pnt,sym.latex(fx),lim)))\n",
    "print(1.5**3)\n",
    "\n",
    "fxx = sym.lambdify(x,fx)\n",
    "xx = np.linspace(-5,5,200)\n",
    "# fxx()\n",
    "plt.plot(xx,fxx(xx))\n",
    "plt.plot(lim_pnt,lim,'ro')\n",
    "\n",
    "plt.show()\n",
    "\n",
    "fx = (x**2)/(x-2)\n",
    "fxx = sym.lambdify(x,fx)\n",
    "xx = np.linspace(1,3,102)\n",
    "\n",
    "lim_pnt = 2\n",
    "lim = sym.limit(fx,x,lim_pnt,dir='-')\n",
    "plt.plot(xx,fxx(xx))\n",
    "display(Math('\\\\lim_{x\\\\to %g^-} %s = %g' %(lim_pnt,sym.latex(fx),lim)))\n",
    "\n",
    "# Lect 119 my try (Correct after fixing sym.exp syntax typo)-\n",
    "\n",
    "x = sym.symbols('x')\n",
    "tx = sym.exp(-x)*sym.sqrt(x+1)\n",
    "gx = sym.cos(x+sym.sin(x))\n",
    "ac = tx/gx\n",
    "\n",
    "lim_pnt_h = 5\n",
    "lim_h = (sym.limit(tx,x,lim_pnt_h)) / (sym.limit(gx,x,lim_pnt_h))\n",
    "print(lim_h)\n",
    "lim_pj = sym.limit(ac,x,lim_pnt_h)\n",
    "print(lim_pj)\n",
    "lp = lim_h - lim_pj\n",
    "print(lp)\n",
    "\n",
    "# Lect 119 ans-\n",
    "x = sym.symbols('x')\n",
    "ht = sym.sqrt(x+1)*sym.exp(-x)\n",
    "kj = sym.cos(x+sym.sin(x))\n",
    "fxc = sym.lambdify(x,ht)\n",
    "fxj = sym.lambdify(x,kj)\n",
    "xc = np.linspace(0,10,100)\n",
    "plt.plot(xc,fxc(xc),label='f(x)')\n",
    "plt.plot(xc,fxj(xc),label='g(x)')\n",
    "plt.legend()\n",
    "plt.show()\n",
    "\n",
    "# Compute limits separately with lim of 5\n",
    "lim_ptn = 5\n",
    "lim_fxg = sym.limit(ht,x,lim_ptn)\n",
    "lim_gxg = sym.limit(kj,x,lim_ptn)\n",
    "# Compute limit of both\n",
    "hgf = ht/kj\n",
    "lim_pjq = sym.limit(hgf,x,lim_pnt_h)\n",
    "lim_tgt = sym.limit(hgf,x,lim_ptn)\n",
    "display(Math('\\\\frac{\\\\lim_{x \\\\to %g} f(x)}{\\\\lim_{x \\\\to %g} g(x)} = \\\\frac{%g}{%g} = %g' \\\n",
    "             %(lim_ptn,lim_ptn,lim_fxg,lim_gxg,lim_pjq)))\n",
    "display(Math('\\\\lim_{x\\\\to %g} \\\\frac{f(x)}{g(x)} = %g' %(lim_ptn,lim_pjq)))\n",
    "\n",
    "\n",
    "from sympy.abc import x\n",
    "\n",
    "piece1 = 0\n",
    "piece2 = -2*x\n",
    "piece3 = x**3/10\n",
    "\n",
    "fx = sym.Piecewise( (piece1,x<0),(piece2,(x>=0)&(x<10)),(piece3,x>=10) )\n",
    "fxd = sym.lambdify(x,fx)\n",
    "xx = np.linspace(-3,15,1234)\n",
    "\n",
    "plt.plot(xx,fxd(xx))\n",
    "\n",
    "piece1 = x**3\n",
    "piece2 = sym.log(x,2)\n",
    "fx = sym.Piecewise((piece1,x<=0),(piece2,x>0))\n",
    "fds = sym.lambdify(x,fx)\n",
    "ol = np.linspace(-3,15,1234)\n",
    "plt.plot(ol,fds(ol))\n",
    "\n",
    "f1 = x**3\n",
    "f2 = sym.log(x,2)\n",
    "fx = sym.Piecewise((f1,x<=0),(f2,x>0))\n",
    "fxx = sym.lambdify(x,fx)\n",
    "display(Math('f(x) = ' + sym.latex(fx)))\n",
    "\n",
    "# plt.xkcd() #remains activated for rest of notebook until de-activated\n",
    "with plt.xkcd():\n",
    "    plt.plot(xx,fxx(xx),'k')\n",
    "    plt.xlim([-2,2])\n",
    "    plt.ylim([-10,3])\n",
    "    plt.show()"
   ]
  },
  {
   "cell_type": "code",
   "execution_count": 26,
   "metadata": {},
   "outputs": [
    {
     "data": {
      "text/plain": [
       "[<matplotlib.lines.Line2D at 0x7feec6bcdf70>]"
      ]
     },
     "execution_count": 26,
     "metadata": {},
     "output_type": "execute_result"
    },
    {
     "data": {
      "image/png": "[encoded data removed]",
      "text/plain": [
       "<Figure size 432x288 with 1 Axes>"
      ]
     },
     "metadata": {
      "needs_background": "light"
     },
     "output_type": "display_data"
    }
   ],
   "source": [
    "from sympy.abc import x\n",
    "\n",
    "piece1 = 0\n",
    "piece2 = -2*x\n",
    "piece3 = x**3/10 # (.1*x**3)\n",
    "\n",
    "fx = sym.Piecewise((piece1,x<0),(piece2,(x>=0)&(x<10)),(piece3,x>=10))\n",
    "fxx = sym.lambdify(x,fx)\n",
    "xx = np.linspace(-10,15,1234)\n",
    "#plt.gca().set_aspect('equal')\n",
    "# plt.axis('square')\n",
    "# plt.xlim(10)\n",
    "plt.plot(xx,fxx(xx)) #plot this function at the specific points we are interested in\n",
    "#pass in x as the x of lines and the function's answer is y for the line:"
   ]
  },
  {
   "cell_type": "code",
   "execution_count": 61,
   "metadata": {},
   "outputs": [
    {
     "data": {
      "text/latex": [
       "$\\displaystyle f(x) = \\begin{cases} x^{3} & \\text{for}\\: x \\leq 0 \\\\\\frac{\\log{\\left(x \\right)}}{\\log{\\left(2 \\right)}} & \\text{otherwise} \\end{cases}$"
      ],
      "text/plain": [
       "<IPython.core.display.Math object>"
      ]
     },
     "metadata": {},
     "output_type": "display_data"
    },
    {
     "name": "stderr",
     "output_type": "stream",
     "text": [
      "<lambdifygenerated-50>:2: RuntimeWarning: invalid value encountered in log\n",
      "  return (select([less_equal(x, 0),True], [x**3,log(x)/log(2)], default=nan))\n"
     ]
    },
    {
     "data": {
      "image/png": "[encoded data removed]",
      "text/plain": [
       "<Figure size 432x288 with 1 Axes>"
      ]
     },
     "metadata": {},
     "output_type": "display_data"
    }
   ],
   "source": [
    "f1 = x**3\n",
    "f2 = sym.log(x,2) #log based 2, use base as second input, see shift+tab in () for help file\n",
    "\n",
    "fx = sym.Piecewise((f1,x<=0),(f2,x>0))\n",
    "fxx = sym.lambdify(x,fx)\n",
    "display(Math('f(x) = ' + sym.latex(fx)))\n",
    "\n",
    "with plt.xkcd():\n",
    "    plt.plot(xx,fxx(xx),'k')\n",
    "    plt.ylim(-30,4)\n",
    "    plt.xlim(-3.5,6)\n",
    "    plt.show()"
   ]
  },
  {
   "cell_type": "code",
   "execution_count": 66,
   "metadata": {},
   "outputs": [],
   "source": [
    "x = sym.symbols('x')\n",
    "# from sympy.abc import x\n",
    "\n",
    "fx = x**2\n",
    "dfx = sym.diff(fx) #compute the derivative (a differential)"
   ]
  },
  {
   "cell_type": "code",
   "execution_count": 72,
   "metadata": {},
   "outputs": [
    {
     "data": {
      "text/latex": [
       "$\\displaystyle f(x) = x^{2}, \\quad \\frac{df}{dx}=2 x$"
      ],
      "text/plain": [
       "<IPython.core.display.Math object>"
      ]
     },
     "metadata": {},
     "output_type": "display_data"
    },
    {
     "data": {
      "text/latex": [
       "$\\displaystyle f(x) = x^{2}, \\quad f'=2 x \"\\text{f prime equals...}\"$"
      ],
      "text/plain": [
       "<IPython.core.display.Math object>"
      ]
     },
     "metadata": {},
     "output_type": "display_data"
    },
    {
     "data": {
      "text/latex": [
       "$\\displaystyle f(x) = x^{2}, \\quad \\dot{f}=2 x$"
      ],
      "text/plain": [
       "<IPython.core.display.Math object>"
      ]
     },
     "metadata": {},
     "output_type": "display_data"
    }
   ],
   "source": [
    "# Liebniz notation\n",
    "display(Math('f(x) = %s, \\\\quad \\\\frac{df}{dx}=%s' \\\n",
    "             %(sym.latex(fx),sym.latex(sym.diff(fx)))))\n",
    "\n",
    "# Lagrange notation\n",
    "display(Math('f(x) = %s, \\\\quad f\\'=%s \"\\\\text{f prime equals...}\"' \\\n",
    "             %(sym.latex(fx),sym.latex(sym.diff(fx)))))\n",
    "\n",
    "# Newton notation\n",
    "display(Math('f(x) = %s, \\\\quad \\\\dot{f}=%s' \\\n",
    "             %(sym.latex(fx),sym.latex(sym.diff(fx)))))"
   ]
  },
  {
   "cell_type": "code",
   "execution_count": 92,
   "metadata": {},
   "outputs": [
    {
     "data": {
      "image/png": "[encoded data removed]",
      "text/plain": [
       "<Figure size 432x288 with 1 Axes>"
      ]
     },
     "metadata": {
      "needs_background": "light"
     },
     "output_type": "display_data"
    }
   ],
   "source": [
    "import sympy.plotting.plot as symplot\n",
    "\n",
    "fx = 3-x**3\n",
    "p = symplot(fx,(x,-5,5),show=False)\n",
    "p.extend( symplot(sym.diff(fx),(x,-5,5),show=False)) #Show derivative's line\n",
    "p[1].line_color = 'r'\n",
    "p[0].label = '$f(x) = %s$' %sym.latex(fx)\n",
    "p[1].label = '$f(x) = %s$' %sym.latex(sym.diff(fx))\n",
    "p.legend = True\n",
    "p.ylim = [-10,10]\n",
    "p.xlim = [-3,3]\n",
    "p.show() #The downward slope of the line shows the minus x cubed\n",
    "# And the 3 just shifts it over a bit (3 is where the line breaks the y axis)\n",
    "# Removing the 3 doesn't change the derivative's line position\n",
    "\n",
    "#The line is the relationship (x and y) to the formula's input and answer"
   ]
  },
  {
   "cell_type": "code",
   "execution_count": 118,
   "metadata": {},
   "outputs": [
    {
     "data": {
      "text/latex": [
       "$\\displaystyle (f+g)' = 5 x^{4} + 28 x^{3} - 2 x + 2$"
      ],
      "text/plain": [
       "<IPython.core.display.Math object>"
      ]
     },
     "metadata": {},
     "output_type": "display_data"
    },
    {
     "data": {
      "text/latex": [
       "$\\displaystyle f'+g' = 5 x^{4} + 28 x^{3} - 2 x + 2$"
      ],
      "text/plain": [
       "<IPython.core.display.Math object>"
      ]
     },
     "metadata": {},
     "output_type": "display_data"
    }
   ],
   "source": [
    "fx = 7*x**4 - 5*x**2 + 2*x + 3\n",
    "gx = x**5 + 4*x**2\n",
    "diff = sym.diff(fx+gx)\n",
    "d_fPlus_g = fx + gx\n",
    "# TypeError: not enough arguments for format string:\n",
    "# display(Math('\\\\text{Summation rule: }%s = (%s) + (%s) = %s' \\\n",
    "             # %(sym.latex(sym.diff(fx+gx)),sym.latex(sym.diff(fx)),sym.latex(sym.diff(gx),sym.latex(diff)))))\n",
    "display(Math('(f+g)\\' = %s' %sym.latex(sym.expand(diff)))) \n",
    "display(Math('f\\'+g\\' = %s' %sym.latex(sym.expand(sym.diff(fx+gx)))))"
   ]
  },
  {
   "cell_type": "code",
   "execution_count": 108,
   "metadata": {},
   "outputs": [],
   "source": [
    "x = sym.symbols('x')\n",
    "f = 3 + 2*x - 5*x**2 + 7*x**4\n",
    "g = 4*x**2 + x**5\n",
    "\n",
    "df = sym.diff(f)\n",
    "dg = sym.diff(g)\n",
    "\n",
    "d_fXg = sym.diff(f*g)\n",
    "df_X_dg = sym.diff(f)*sym.diff(g)\n",
    "prod_fg = (df * g) + (f * dg)"
   ]
  },
  {
   "cell_type": "code",
   "execution_count": 107,
   "metadata": {},
   "outputs": [
    {
     "data": {
      "text/latex": [
       "$\\displaystyle \\text{Without applying the product rule.}$"
      ],
      "text/plain": [
       "<IPython.core.display.Math object>"
      ]
     },
     "metadata": {},
     "output_type": "display_data"
    },
    {
     "data": {
      "text/latex": [
       "$\\displaystyle \\quad (f\\times g)' = 63 x^{8} - 35 x^{6} + 180 x^{5} + 15 x^{4} - 80 x^{3} + 24 x^{2} + 24 x$"
      ],
      "text/plain": [
       "<IPython.core.display.Math object>"
      ]
     },
     "metadata": {},
     "output_type": "display_data"
    },
    {
     "data": {
      "text/latex": [
       "$\\displaystyle \\quad f' \\times g' = 140 x^{7} - 50 x^{5} + 234 x^{4} - 80 x^{2} + 16 x$"
      ],
      "text/plain": [
       "<IPython.core.display.Math object>"
      ]
     },
     "metadata": {},
     "output_type": "display_data"
    }
   ],
   "source": [
    "display(Math('\\\\text{Without applying the product rule.}'))\n",
    "display(Math('\\\\quad (f\\\\times g)\\' = %s' %(sym.latex(sym.expand(d_fXg)))))\n",
    "display(Math('\\\\quad f\\' \\\\times g\\' = %s' %(sym.latex(sym.expand(df_X_dg)))))"
   ]
  },
  {
   "cell_type": "code",
   "execution_count": 114,
   "metadata": {},
   "outputs": [
    {
     "data": {
      "text/latex": [
       "$\\displaystyle \\text{With applying the product rule.}$"
      ],
      "text/plain": [
       "<IPython.core.display.Math object>"
      ]
     },
     "metadata": {},
     "output_type": "display_data"
    },
    {
     "data": {
      "text/latex": [
       "$\\displaystyle \\quad (f\\times g)' = 63 x^{8} - 35 x^{6} + 180 x^{5} + 15 x^{4} - 80 x^{3} + 24 x^{2} + 24 x$"
      ],
      "text/plain": [
       "<IPython.core.display.Math object>"
      ]
     },
     "metadata": {},
     "output_type": "display_data"
    },
    {
     "data": {
      "text/latex": [
       "$\\displaystyle \\quad f' \\times g + f\\times g' = 63 x^{8} - 35 x^{6} + 180 x^{5} + 15 x^{4} - 80 x^{3} + 24 x^{2} + 24 x$"
      ],
      "text/plain": [
       "<IPython.core.display.Math object>"
      ]
     },
     "metadata": {},
     "output_type": "display_data"
    },
    {
     "data": {
      "text/latex": [
       "$\\displaystyle \\quad (f\\times g)' = (28 x^{3} - 10 x + 2 \\times x^{5} + 4 x^{2})+(7 x^{4} - 5 x^{2} + 2 x + 3 \\times 5 x^{4} + 8 x) = 63 x^{8} - 35 x^{6} + 180 x^{5} + 15 x^{4} - 80 x^{3} + 24 x^{2} + 24 x$"
      ],
      "text/plain": [
       "<IPython.core.display.Math object>"
      ]
     },
     "metadata": {},
     "output_type": "display_data"
    }
   ],
   "source": [
    "display(Math('\\\\text{With applying the product rule.}'))\n",
    "display(Math('\\\\quad (f\\\\times g)\\' = %s' %(sym.latex(sym.expand(d_fXg)))))\n",
    "display(Math('\\\\quad f\\' \\\\times g + f\\\\times g\\' = %s' \\\n",
    "             %sym.latex(sym.expand(df*g+f*dg))))\n",
    "display(Math('\\\\quad (f\\\\times g)\\' = (%s \\\\times %s)+(%s \\\\times %s) = %s' \\\n",
    "             %(sym.latex(df),sym.latex(g),sym.latex(f),sym.latex(dg),sym.latex(sym.expand(prod_fg)))))\n",
    "                                                                              \n",
    "                                                                              \n",
    "                                                                       "
   ]
  },
  {
   "cell_type": "code",
   "execution_count": null,
   "metadata": {},
   "outputs": [],
   "source": [
    "# 123 Derivatives of Trigonometric Functions-\n",
    "\n"
   ]
  }
 ],
 "metadata": {
  "kernelspec": {
   "display_name": "Python 3",
   "language": "python",
   "name": "python3"
  },
  "language_info": {
   "codemirror_mode": {
    "name": "ipython",
    "version": 3
   },
   "file_extension": ".py",
   "mimetype": "text/x-python",
   "name": "python",
   "nbconvert_exporter": "python",
   "pygments_lexer": "ipython3",
   "version": "3.8.5"
  }
 },
 "nbformat": 4,
 "nbformat_minor": 4
}
