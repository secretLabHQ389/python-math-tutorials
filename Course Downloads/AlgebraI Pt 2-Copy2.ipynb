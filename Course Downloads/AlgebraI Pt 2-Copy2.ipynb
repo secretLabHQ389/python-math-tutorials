{
 "cells": [
  {
   "cell_type": "code",
   "execution_count": 8,
   "metadata": {},
   "outputs": [
    {
     "name": "stdout",
     "output_type": "stream",
     "text": [
      "c\n",
      "c\n",
      "9\n",
      "3\n"
     ]
    }
   ],
   "source": [
    "import sympy as sym\n",
    "import math\n",
    "from IPython.display import display,Math\n",
    "import numpy as np\n",
    "\n",
    "a,b,c = sym.symbols('a,b,c')\n",
    "print(sym.gcd(a*c,b*c))\n",
    "print(c*sym.gcd(a,b))\n",
    "a = 15\n",
    "b = 6\n",
    "c = 3\n",
    "\n",
    "print(math.gcd(a*c,b*c))\n",
    "print(math.gcd(a,b))"
   ]
  },
  {
   "cell_type": "code",
   "execution_count": 13,
   "metadata": {},
   "outputs": [
    {
     "data": {
      "text/latex": [
       "$\\displaystyle \\left[\\begin{array}1.0 & 1.0 & 1.0 & 1.0 & 1.0 & 1.0 & 1.0 & 1.0 & 1.0 & 1.0 & 1.0 & 1.0 & 1.0 & 1.0 & 1.0\\\\1.0 & 2.0 & 1.0 & 2.0 & 1.0 & 2.0 & 1.0 & 2.0 & 1.0 & 2.0 & 1.0 & 2.0 & 1.0 & 2.0 & 1.0\\\\1.0 & 1.0 & 3.0 & 1.0 & 1.0 & 3.0 & 1.0 & 1.0 & 3.0 & 1.0 & 1.0 & 3.0 & 1.0 & 1.0 & 3.0\\\\1.0 & 2.0 & 1.0 & 4.0 & 1.0 & 2.0 & 1.0 & 4.0 & 1.0 & 2.0 & 1.0 & 4.0 & 1.0 & 2.0 & 1.0\\\\1.0 & 1.0 & 1.0 & 1.0 & 5.0 & 1.0 & 1.0 & 1.0 & 1.0 & 5.0 & 1.0 & 1.0 & 1.0 & 1.0 & 5.0\\\\1.0 & 2.0 & 3.0 & 2.0 & 1.0 & 6.0 & 1.0 & 2.0 & 3.0 & 2.0 & 1.0 & 6.0 & 1.0 & 2.0 & 3.0\\\\1.0 & 1.0 & 1.0 & 1.0 & 1.0 & 1.0 & 7.0 & 1.0 & 1.0 & 1.0 & 1.0 & 1.0 & 1.0 & 7.0 & 1.0\\\\1.0 & 2.0 & 1.0 & 4.0 & 1.0 & 2.0 & 1.0 & 8.0 & 1.0 & 2.0 & 1.0 & 4.0 & 1.0 & 2.0 & 1.0\\\\1.0 & 1.0 & 3.0 & 1.0 & 1.0 & 3.0 & 1.0 & 1.0 & 9.0 & 1.0 & 1.0 & 3.0 & 1.0 & 1.0 & 3.0\\\\1.0 & 2.0 & 1.0 & 2.0 & 5.0 & 2.0 & 1.0 & 2.0 & 1.0 & 10.0 & 1.0 & 2.0 & 1.0 & 2.0 & 5.0\\end{array}\\right]$"
      ],
      "text/plain": [
       "<IPython.core.display.Math object>"
      ]
     },
     "metadata": {},
     "output_type": "display_data"
    }
   ],
   "source": [
    "n = 10\n",
    "m = 15\n",
    "\n",
    "gcdMat = np.zeros([n,m])+99\n",
    "gcdMat\n",
    "\n",
    "for rowi in range(0,n):\n",
    "    for coli in range(0,m):\n",
    "        gcdMat[rowi,coli] = math.gcd(rowi+1,coli+1)\n",
    "        \n",
    "display(Math(sym.latex(sym.sympify(gcdMat))))"
   ]
  },
  {
   "cell_type": "code",
   "execution_count": 19,
   "metadata": {},
   "outputs": [
    {
     "name": "stdout",
     "output_type": "stream",
     "text": [
      "{'fruit': ['banana', 'apple'], 'numbers': [1, 3, 4, 2, 7]}\n",
      "dict_keys(['fruit', 'numbers'])\n",
      "['banana', 'apple']\n",
      "banana\n",
      "['banana', 'apple']\n"
     ]
    }
   ],
   "source": [
    "D = dict(fruit=['banana','apple'],numbers=[1,3,4,2,7])\n",
    "\n",
    "print(D)\n",
    "print(D.keys())\n",
    "print(D['fruit'])\n",
    "print(D['fruit'][0])\n",
    "print(D.get('fruit'))"
   ]
  },
  {
   "cell_type": "code",
   "execution_count": 21,
   "metadata": {},
   "outputs": [
    {
     "name": "stdout",
     "output_type": "stream",
     "text": [
      "['banana', 'apple']\n",
      "[1, 3, 4, 2, 7]\n"
     ]
    }
   ],
   "source": [
    "for keys in D:\n",
    "    print(D[keys])"
   ]
  },
  {
   "cell_type": "code",
   "execution_count": 37,
   "metadata": {},
   "outputs": [
    {
     "name": "stdout",
     "output_type": "stream",
     "text": [
      "Solutions for equations involving X;\n"
     ]
    },
    {
     "data": {
      "text/latex": [
       "$\\displaystyle \\quad\\quad 4 x - 6 =0\\quad \\Rightarrow \\quad X = \\left[ \\frac{3}{2}\\right]$"
      ],
      "text/plain": [
       "<IPython.core.display.Math object>"
      ]
     },
     "metadata": {},
     "output_type": "display_data"
    },
    {
     "data": {
      "text/latex": [
       "$\\displaystyle \\quad\\quad x^{2} - 9 =0\\quad \\Rightarrow \\quad X = \\left[ -3, \\  3\\right]$"
      ],
      "text/plain": [
       "<IPython.core.display.Math object>"
      ]
     },
     "metadata": {},
     "output_type": "display_data"
    },
    {
     "name": "stdout",
     "output_type": "stream",
     "text": [
      "Solutions for equations involving Y;\n"
     ]
    },
    {
     "data": {
      "text/latex": [
       "$\\displaystyle \\quad\\quad \\sin{\\left(y \\right)} =0\\quad \\Rightarrow \\quad Y = \\left[ 0, \\  \\pi\\right]$"
      ],
      "text/plain": [
       "<IPython.core.display.Math object>"
      ]
     },
     "metadata": {},
     "output_type": "display_data"
    }
   ],
   "source": [
    "# display(Math('%s \\\\quad \\\\Longleftrightarrow \\\\quad %s' %(sym.latex(exprs[i]),sym.latex(sym.expand(exprs[i])))))\n",
    "\n",
    "x,y = sym.symbols('x y')\n",
    "\n",
    "E = dict(eqsWithX = [4*x-6,x**2-9], eqsWithY = [sym.sin(y)])\n",
    "\n",
    "for keyi in E:\n",
    "    print('Solutions for equations involving ' + keyi[-1] + ';')\n",
    "    \n",
    "    for eqi in E[keyi]:\n",
    "        leftpart = sym.latex(eqi) + ' =0'\n",
    "        midpart = '\\\\quad \\\\Rightarrow \\\\quad ' + keyi[-1] + ' = '\n",
    "        rightpart = sym.latex(sym.solve(eqi))\n",
    "        \n",
    "        display(Math('\\\\quad\\\\quad ' + leftpart + midpart + rightpart))"
   ]
  },
  {
   "cell_type": "code",
   "execution_count": 45,
   "metadata": {},
   "outputs": [
    {
     "name": "stdout",
     "output_type": "stream",
     "text": [
      "<class 'dict'>\n",
      "{2: 4, 3: 1}\n"
     ]
    }
   ],
   "source": [
    "# Prime factorization- how many/what prime numbers alone multiply to get it\n",
    "number = 48\n",
    "\n",
    "fact_dict = sym.factorint(number)\n",
    "print(type(fact_dict))\n",
    "print(fact_dict)"
   ]
  },
  {
   "cell_type": "code",
   "execution_count": 61,
   "metadata": {},
   "outputs": [
    {
     "name": "stdout",
     "output_type": "stream",
     "text": [
      "0 is a prime number\n",
      "1 is a composite number with prime factors: []\n",
      "2 is a prime number\n",
      "3 is a prime number\n",
      "4 is a composite number with prime factors: [2]\n",
      "5 is a prime number\n",
      "6 is a composite number with prime factors: [2, 3]\n",
      "7 is a prime number\n",
      "8 is a composite number with prime factors: [2]\n",
      "9 is a composite number with prime factors: [3]\n",
      "10 is a composite number with prime factors: [2, 5]\n",
      "11 is a prime number\n",
      "12 is a composite number with prime factors: [2, 3]\n",
      "13 is a prime number\n",
      "14 is a composite number with prime factors: [2, 7]\n",
      "15 is a composite number with prime factors: [3, 5]\n",
      "16 is a composite number with prime factors: [2]\n",
      "17 is a prime number\n",
      "18 is a composite number with prime factors: [2, 3]\n",
      "19 is a prime number\n",
      "20 is a composite number with prime factors: [2, 5]\n",
      "21 is a composite number with prime factors: [3, 7]\n",
      "22 is a composite number with prime factors: [2, 11]\n",
      "23 is a prime number\n",
      "24 is a composite number with prime factors: [2, 3]\n",
      "25 is a composite number with prime factors: [5]\n",
      "26 is a composite number with prime factors: [2, 13]\n",
      "27 is a composite number with prime factors: [3]\n",
      "28 is a composite number with prime factors: [2, 7]\n",
      "29 is a prime number\n",
      "30 is a composite number with prime factors: [2, 3, 5]\n",
      "31 is a prime number\n",
      "32 is a composite number with prime factors: [2]\n",
      "33 is a composite number with prime factors: [3, 11]\n",
      "34 is a composite number with prime factors: [2, 17]\n",
      "35 is a composite number with prime factors: [5, 7]\n",
      "36 is a composite number with prime factors: [2, 3]\n",
      "37 is a prime number\n",
      "38 is a composite number with prime factors: [2, 19]\n",
      "39 is a composite number with prime factors: [3, 13]\n",
      "40 is a composite number with prime factors: [2, 5]\n",
      "41 is a prime number\n",
      "42 is a composite number with prime factors: [2, 3, 7]\n",
      "43 is a prime number\n",
      "44 is a composite number with prime factors: [2, 11]\n",
      "45 is a composite number with prime factors: [3, 5]\n",
      "46 is a composite number with prime factors: [2, 23]\n",
      "47 is a prime number\n",
      "48 is a composite number with prime factors: [2, 3]\n",
      "49 is a composite number with prime factors: [7]\n",
      "50 is a composite number with prime factors: [2, 5]\n"
     ]
    }
   ],
   "source": [
    "numlist = range(0,51)\n",
    "\n",
    "for i in numlist:\n",
    "    c = sym.factorint(numlist[i])\n",
    "    t = list(c.keys())\n",
    "    #if (len(t) > 1):\n",
    "    if len(c)==1 and c[t[0]]==1:\n",
    "        print('%g is a prime number' %i)\n",
    "    else:\n",
    "        print('%g is a composite number with prime factors: %s' %(i,list(c.keys())))\n",
    "#         q = c.values()\n",
    "#         if (len(q) > 1):\n",
    "#             print(i, ' is a composite number with prime factors ', t)\n",
    "#         elif (c.values() < 2):\n",
    "#             print(i, ' is a prime number')\n",
    "#     else:\n",
    "#         print(i, ' is a prime number')  "
   ]
  },
  {
   "cell_type": "code",
   "execution_count": 64,
   "metadata": {},
   "outputs": [
    {
     "name": "stdout",
     "output_type": "stream",
     "text": [
      "4*x > 8\n"
     ]
    },
    {
     "data": {
      "text/latex": [
       "$\\displaystyle 2 < x \\wedge x < \\infty$"
      ],
      "text/plain": [
       "<IPython.core.display.Math object>"
      ]
     },
     "metadata": {},
     "output_type": "display_data"
    }
   ],
   "source": [
    "# Solving Inequalities\n",
    "import sympy as sym\n",
    "from IPython.display import display,Math\n",
    "\n",
    "x = sym.symbols('x')\n",
    "expr = 4*x > 8\n",
    "print(expr)\n",
    "display(Math(sym.latex(sym.solve(expr))))\n",
    "# wedge operator"
   ]
  },
  {
   "cell_type": "code",
   "execution_count": 66,
   "metadata": {},
   "outputs": [
    {
     "data": {
      "text/latex": [
       "$\\displaystyle a x > \\frac{b^{2}}{c}$"
      ],
      "text/plain": [
       "<IPython.core.display.Math object>"
      ]
     },
     "metadata": {},
     "output_type": "display_data"
    },
    {
     "data": {
      "text/latex": [
       "$\\displaystyle a x > \\frac{b^{2}}{c}$"
      ],
      "text/plain": [
       "a*x > b**2/c"
      ]
     },
     "execution_count": 66,
     "metadata": {},
     "output_type": "execute_result"
    }
   ],
   "source": [
    "a,b,c = sym.symbols('a,b,c')\n",
    "ex = a*x > b**2/c"
   ]
  },
  {
   "cell_type": "code",
   "execution_count": 69,
   "metadata": {},
   "outputs": [
    {
     "data": {
      "text/latex": [
       "$\\displaystyle \\frac{4}{3} - \\frac{x}{6} \\leq \\frac{5 x}{4} - \\frac{1}{2}$"
      ],
      "text/plain": [
       "<IPython.core.display.Math object>"
      ]
     },
     "metadata": {},
     "output_type": "display_data"
    },
    {
     "data": {
      "text/latex": [
       "$\\displaystyle \\frac{22}{17} \\leq x \\wedge x < \\infty$"
      ],
      "text/plain": [
       "(22/17 <= x) & (x < oo)"
      ]
     },
     "execution_count": 69,
     "metadata": {},
     "output_type": "execute_result"
    }
   ],
   "source": [
    "x = sym.symbols('x')\n",
    "# display(Math('\\\\frac{3x}{2}+\\\\frac{4-5*x}{3}<=2-\\\\frac{5*(2-x)/4} = ' + sym.latex(sym.solve('\\\\frac{3x}{2}+\\\\frac{4-5*x}{3}<=2-\\\\frac{5*(2-x)/4}'))))\n",
    "\n",
    "ex = 3*x/2 + (4-5*x)/3 <= 2 - (5*(2-x))/4\n",
    "\n",
    "display(Math(sym.latex(ex)))\n",
    "sym.solve(ex)"
   ]
  },
  {
   "cell_type": "code",
   "execution_count": 2,
   "metadata": {},
   "outputs": [
    {
     "data": {
      "text/latex": [
       "$\\displaystyle (2 x^{3} + x^{2} - x) + (- x^{4} + x^{3} - 4 x^{2}) = - x^{4} + 3 x^{3} - 3 x^{2} - x$"
      ],
      "text/plain": [
       "<IPython.core.display.Math object>"
      ]
     },
     "metadata": {},
     "output_type": "display_data"
    }
   ],
   "source": [
    "# Polynomial addition\n",
    "\n",
    "import sympy as sym\n",
    "from IPython.display import display,Math\n",
    "from sympy.abc import x\n",
    "\n",
    "p1 = 2*x**3+x**2-x\n",
    "p2 = x**3-x**4-4*x**2\n",
    "\n",
    "display(Math('(%s) + (%s) = %s' %(sym.latex(p1), sym.latex(p2), sym.latex(p1+p2)))) #sympy puts polynomial in descending order of powers\n",
    "\n",
    "\n"
   ]
  },
  {
   "cell_type": "code",
   "execution_count": 4,
   "metadata": {},
   "outputs": [
    {
     "name": "stdout",
     "output_type": "stream",
     "text": [
      "<class 'sympy.polys.polytools.Poly'>\n",
      "Poly(2*x**3 + x**2 - x, x, domain='ZZ')\n",
      "[2, 1, -1]\n"
     ]
    }
   ],
   "source": [
    "#p1 = sym.Poly(2*x**3+x**2-x)\n",
    "p1 = sym.Poly(x**2 - x + 2*x**3)\n",
    "print(type(p1))\n",
    "print(p1)\n",
    "print(p1.coeffs())\n",
    "print(p1.degree())"
   ]
  },
  {
   "cell_type": "code",
   "execution_count": 11,
   "metadata": {},
   "outputs": [
    {
     "name": "stdout",
     "output_type": "stream",
     "text": [
      "The degree is x**2 + 2*x and the coefficients sum to 3.\n",
      "The degree of -x**3 + 4*x is odd, and there are 2 coefficients\n",
      "The degree of x**5 - x**4 + x/4 + 4 is odd, and there are 4 coefficients\n"
     ]
    }
   ],
   "source": [
    "#Lect 47 exercise\n",
    "import numpy as np\n",
    "\n",
    "polys = [ sym.Poly(2*x + x**2), sym.Poly(-x**3 + 4*x), sym.Poly(x**5 - x**4 + x/4+4) ]\n",
    "\n",
    "for poli in polys:\n",
    "    # np.mod(poli.degree(),2)==0\n",
    "    if poli.degree()%2==0:\n",
    "        print('The degree is %s and the coefficients sum to %g.' %(poli.as_expr(),sum(poli.coeffs())))\n",
    "    else:\n",
    "        print('The degree of %s is odd, and there are %g coefficients' %(poli.as_expr(),len(poli.coeffs())))"
   ]
  },
  {
   "cell_type": "code",
   "execution_count": 17,
   "metadata": {},
   "outputs": [
    {
     "name": "stdout",
     "output_type": "stream",
     "text": [
      "x**8\n",
      "x**5 + x**3\n"
     ]
    },
    {
     "data": {
      "text/latex": [
       "$\\displaystyle 4 x^{5} - 2 x^{4} - 4 x^{2} + 2 x$"
      ],
      "text/plain": [
       "<IPython.core.display.Math object>"
      ]
     },
     "metadata": {},
     "output_type": "display_data"
    }
   ],
   "source": [
    "x = sym.symbols('x')\n",
    "print(x**5*x**3)\n",
    "print(x**5+x**3)\n",
    "p1 = 4*x**2-2*x\n",
    "p2 = x**3-1\n",
    "display(Math(sym.latex(sym.expand(p1*p2))))"
   ]
  },
  {
   "cell_type": "code",
   "execution_count": 23,
   "metadata": {},
   "outputs": [
    {
     "data": {
      "text/latex": [
       "$\\displaystyle - 4 x^{7} + 24 x^{6} y + 3 x^{5} + 3.20000000000000 x^{4} y^{3} - x^{4} y^{2} - 18 x^{4} y + 15 x^{3} y^{3} - 54 x^{2} y^{4} - 2.40000000000000 x^{2} y^{3} + 0.800000000000000 x y^{5} - 7.20000000000000 y^{6}$"
      ],
      "text/plain": [
       "<IPython.core.display.Math object>"
      ]
     },
     "metadata": {},
     "output_type": "display_data"
    },
    {
     "data": {
      "text/latex": [
       "$\\displaystyle 4 x^{4} - 3 x^{2} + x y^{2} - 9 y^{3}$"
      ],
      "text/plain": [
       "<IPython.core.display.Math object>"
      ]
     },
     "metadata": {},
     "output_type": "display_data"
    },
    {
     "data": {
      "text/latex": [
       "$\\displaystyle - x^{3} + 6 x^{2} y + 0.8 y^{3}$"
      ],
      "text/plain": [
       "<IPython.core.display.Math object>"
      ]
     },
     "metadata": {},
     "output_type": "display_data"
    }
   ],
   "source": [
    "#my answers, lect. 48\n",
    "x,y = sym.symbols('x y')\n",
    "f = 4*x**4-3*x**2+x*y**2-9*y**3\n",
    "g = -x**3+6*x**2*y+.8*y**3\n",
    "f.subs({x:5,y:-2})\n",
    "g.subs({x:5,y:-2})\n",
    "display(Math(sym.latex(sym.expand(f*g), f.subs({x:5,y:-2}), g.subs({x:5,y:-2}))))\n",
    "\n",
    "p = 4*x**4-3*x**2+x*y**2-9*y**3\n",
    "t = -x**3+6*x**2*y+.8*y**3\n",
    "p.subs({x:5,y:-2})\n",
    "display(Math(sym.latex(sym.expand(p))))\n",
    "t.subs({x:5,y:-2})\n",
    "display(Math(sym.latex(sym.expand(t))))\n"
   ]
  },
  {
   "cell_type": "code",
   "execution_count": 28,
   "metadata": {},
   "outputs": [
    {
     "data": {
      "text/latex": [
       "$\\displaystyle (4 x^{4} - 3 x^{2} + x y^{2} - 9 y^{3}) \\times (- x^{3} + 6 x^{2} y + 0.8 y^{3}) = - 4 x^{7} + 24 x^{6} y + 3 x^{5} + 3.2 x^{4} y^{3} - x^{4} y^{2} - 18 x^{4} y + 15 x^{3} y^{3} - 54 x^{2} y^{4} - 2.4 x^{2} y^{3} + 0.8 x y^{5} - 7.2 y^{6}$"
      ],
      "text/plain": [
       "<IPython.core.display.Math object>"
      ]
     },
     "metadata": {},
     "output_type": "display_data"
    },
    {
     "name": "stdout",
     "output_type": "stream",
     "text": [
      "-1085833.80000000\n",
      "Separate solutions comes to -1085833.80000000\n"
     ]
    }
   ],
   "source": [
    "x,y = sym.symbols('x,y')\n",
    "fxy = 4*x**4-9*y**3-3*x**2+x*y**2\n",
    "gxy = .8*y**3-x**3+6*x**2*y #PEMDAS\n",
    "display(Math('(%s) \\\\times (%s) = %s' %(sym.latex(fxy),sym.latex(gxy),sym.latex(sym.expand(fxy*gxy)))))\n",
    "\n",
    "xval = 5\n",
    "yval = -2\n",
    "\n",
    "fg = (fxy*gxy).subs({x:xval,y:yval})\n",
    "print(fg)\n",
    "\n",
    "fxy_ans = fxy.subs({x:xval,y:yval})\n",
    "gxy_ans = gxy.subs({x:xval,y:yval})\n",
    "print('Separate solutions comes to %s' %(fxy_ans*gxy_ans))"
   ]
  },
  {
   "cell_type": "code",
   "execution_count": 31,
   "metadata": {},
   "outputs": [
    {
     "data": {
      "text/latex": [
       "$\\displaystyle \\frac{4 x^{5} - x}{2 x^{3} - x} = \\frac{4 x^{5} - x}{2 x^{3} - x}$"
      ],
      "text/plain": [
       "<IPython.core.display.Math object>"
      ]
     },
     "metadata": {},
     "output_type": "display_data"
    },
    {
     "data": {
      "text/latex": [
       "$\\displaystyle \\frac{4 x^{5} - x}{2 x^{3} - x} = \\frac{4 x^{5}}{2 x^{3} - x} - \\frac{x}{2 x^{3} - x}$"
      ],
      "text/plain": [
       "<IPython.core.display.Math object>"
      ]
     },
     "metadata": {},
     "output_type": "display_data"
    },
    {
     "data": {
      "text/latex": [
       "$\\displaystyle \\frac{4 x^{5} - x}{2 x^{3} - x} = 2 x^{2} + 1$"
      ],
      "text/plain": [
       "<IPython.core.display.Math object>"
      ]
     },
     "metadata": {},
     "output_type": "display_data"
    }
   ],
   "source": [
    "p1 = 4*x**5-x\n",
    "p2 = 2*x**3-x\n",
    "\n",
    "display(Math('\\\\frac{%s}{%s} = %s' %(sym.latex(p1),sym.latex(p2),sym.latex(p1/p2))))\n",
    "display(Math('\\\\frac{%s}{%s} = %s' %(sym.latex(p1),sym.latex(p2),sym.latex(sym.expand(p1/p2)))))\n",
    "display(Math('\\\\frac{%s}{%s} = %s' %(sym.latex(p1),sym.latex(p2),sym.latex(sym.simplify(p1/p2)))))\n",
    "\n",
    "\n",
    "\n",
    "\n"
   ]
  },
  {
   "cell_type": "code",
   "execution_count": 35,
   "metadata": {
    "scrolled": true
   },
   "outputs": [
    {
     "data": {
      "text/latex": [
       "$\\displaystyle \\frac{x^{6} + 2 x^{4} + 6 x - 5}{x^{3} + 3} = \\frac{x^{6} + 2 x^{4} + 6 x - 5}{x^{3} + 3}$"
      ],
      "text/plain": [
       "<IPython.core.display.Math object>"
      ]
     },
     "metadata": {},
     "output_type": "display_data"
    },
    {
     "data": {
      "text/latex": [
       "$\\displaystyle \\frac{x^{6} + 2 x^{4} + 6 x - 6}{x^{3} + 3} = \\frac{x^{6} + 2 x^{4} + 6 x - 6}{x^{3} + 3}$"
      ],
      "text/plain": [
       "<IPython.core.display.Math object>"
      ]
     },
     "metadata": {},
     "output_type": "display_data"
    },
    {
     "data": {
      "text/latex": [
       "$\\displaystyle \\frac{x^{6} + 2 x^{4} + 6 x - 7}{x^{3} + 3} = \\frac{x^{6} + 2 x^{4} + 6 x - 7}{x^{3} + 3}$"
      ],
      "text/plain": [
       "<IPython.core.display.Math object>"
      ]
     },
     "metadata": {},
     "output_type": "display_data"
    },
    {
     "data": {
      "text/latex": [
       "$\\displaystyle \\frac{x^{6} + 2 x^{4} + 6 x - 8}{x^{3} + 3} = \\frac{x^{6} + 2 x^{4} + 6 x - 8}{x^{3} + 3}$"
      ],
      "text/plain": [
       "<IPython.core.display.Math object>"
      ]
     },
     "metadata": {},
     "output_type": "display_data"
    },
    {
     "data": {
      "text/latex": [
       "$\\displaystyle \\frac{x^{6} + 2 x^{4} + 6 x - 9}{x^{3} + 3} = x^{3} + 2 x - 3$"
      ],
      "text/plain": [
       "<IPython.core.display.Math object>"
      ]
     },
     "metadata": {},
     "output_type": "display_data"
    },
    {
     "data": {
      "text/latex": [
       "$\\displaystyle \\frac{x^{6} + 2 x^{4} + 6 x - 10}{x^{3} + 3} = \\frac{x^{6} + 2 x^{4} + 6 x - 10}{x^{3} + 3}$"
      ],
      "text/plain": [
       "<IPython.core.display.Math object>"
      ]
     },
     "metadata": {},
     "output_type": "display_data"
    },
    {
     "data": {
      "text/latex": [
       "$\\displaystyle \\frac{x^{6} + 2 x^{4} + 6 x - 11}{x^{3} + 3} = \\frac{x^{6} + 2 x^{4} + 6 x - 11}{x^{3} + 3}$"
      ],
      "text/plain": [
       "<IPython.core.display.Math object>"
      ]
     },
     "metadata": {},
     "output_type": "display_data"
    },
    {
     "data": {
      "text/latex": [
       "$\\displaystyle \\frac{x^{6} + 2 x^{4} + 6 x - 12}{x^{3} + 3} = \\frac{x^{6} + 2 x^{4} + 6 x - 12}{x^{3} + 3}$"
      ],
      "text/plain": [
       "<IPython.core.display.Math object>"
      ]
     },
     "metadata": {},
     "output_type": "display_data"
    },
    {
     "data": {
      "text/latex": [
       "$\\displaystyle \\frac{x^{6} + 2 x^{4} + 6 x - 13}{x^{3} + 3} = \\frac{x^{6} + 2 x^{4} + 6 x - 13}{x^{3} + 3}$"
      ],
      "text/plain": [
       "<IPython.core.display.Math object>"
      ]
     },
     "metadata": {},
     "output_type": "display_data"
    },
    {
     "data": {
      "text/latex": [
       "$\\displaystyle \\frac{x^{6} + 2 x^{4} + 6 x - 14}{x^{3} + 3} = \\frac{x^{6} + 2 x^{4} + 6 x - 14}{x^{3} + 3}$"
      ],
      "text/plain": [
       "<IPython.core.display.Math object>"
      ]
     },
     "metadata": {},
     "output_type": "display_data"
    },
    {
     "data": {
      "text/latex": [
       "$\\displaystyle \\frac{x^{6} + 2 x^{4} + 6 x - 15}{x^{3} + 3} = \\frac{x^{6} + 2 x^{4} + 6 x - 15}{x^{3} + 3}$"
      ],
      "text/plain": [
       "<IPython.core.display.Math object>"
      ]
     },
     "metadata": {},
     "output_type": "display_data"
    },
    {
     "name": "stdout",
     "output_type": "stream",
     "text": [
      "The answer that satisfies our goal is y = 9\n"
     ]
    }
   ],
   "source": [
    "# Lect. 49 exercise-\n",
    "\n",
    "#my attempt-\n",
    "# x,y = sym.symbols('x,y')\n",
    "# ji = range(5,16)\n",
    "\n",
    "# ys = (x**6+2*x**4+6*x-y)/x**3+3\n",
    "\n",
    "# display(Math(sym.solve(sym.fraction(ys),)))\n",
    "\n",
    "#insight to solution is 3 == 3/1\n",
    "x,y = sym.symbols('x,y')\n",
    "pNum = x**6+2*x**4+6*x-y\n",
    "pOem = x**3+3\n",
    "\n",
    "for yi in range(5,16):\n",
    "    tempnum = pNum.subs(y,yi)\n",
    "    display(Math('%s = %s' %(sym.latex(tempnum/pOem),sym.latex(sym.simplify(tempnum/pOem)))))\n",
    "    \n",
    "    if sym.fraction(sym.simplify(tempnum/pOem))[1]==1:\n",
    "        rightanswer = yi\n",
    "        \n",
    "print('The answer that satisfies our goal is y = %g' %rightanswer)\n"
   ]
  },
  {
   "cell_type": "code",
   "execution_count": 39,
   "metadata": {},
   "outputs": [
    {
     "data": {
      "text/latex": [
       "$\\displaystyle 2 x \\left(x^{2} y + x y + 2 x - 3 y + 3\\right)$"
      ],
      "text/plain": [
       "2*x*(x**2*y + x*y + 2*x - 3*y + 3)"
      ]
     },
     "execution_count": 39,
     "metadata": {},
     "output_type": "execute_result"
    }
   ],
   "source": [
    "x,y = sym.symbols('x y')\n",
    "p = x**2 + 4*x + 3\n",
    "sym.factor(p)\n",
    "# this is factored: (𝑥+1)(𝑥+3)\n",
    "# it means making it as simple as possible- removing GCD, etc.\n",
    "\n",
    "expr = 2*x**3*y - 2*x**2 + 2*x**2*y + 6*x**2 - 6*x*y + 6*x\n",
    "\n",
    "sym.factor(expr)"
   ]
  },
  {
   "cell_type": "code",
   "execution_count": 54,
   "metadata": {},
   "outputs": [
    {
     "data": {
      "text/latex": [
       "$\\displaystyle x^{2} + 4 x + 3 \\Rightarrow \\left(x + 1\\right) \\left(x + 3\\right)$"
      ],
      "text/plain": [
       "<IPython.core.display.Math object>"
      ]
     },
     "metadata": {},
     "output_type": "display_data"
    },
    {
     "data": {
      "text/latex": [
       "$\\displaystyle 2*y**2 - 1 \\quad \\Rightarrow \\quad Not factorable$"
      ],
      "text/plain": [
       "<IPython.core.display.Math object>"
      ]
     },
     "metadata": {},
     "output_type": "display_data"
    },
    {
     "data": {
      "text/latex": [
       "$\\displaystyle 3 y^{2} + 12 y \\Rightarrow 3 y \\left(y + 4\\right)$"
      ],
      "text/plain": [
       "<IPython.core.display.Math object>"
      ]
     },
     "metadata": {},
     "output_type": "display_data"
    }
   ],
   "source": [
    "#Lect. 50 my try:\n",
    "x,y = sym.symbols('x y')\n",
    "\n",
    "p1 = x**2+4*x+3\n",
    "p2 = 2*y**2-1\n",
    "p3 = 3*y**2+12*y\n",
    "\n",
    "list = [p1,p2,p3]\n",
    "\n",
    "# for i in list:\n",
    "#     display(Math(str(sym.latex((sym.factor(i))))))\n",
    "    \n",
    "## Ans:\n",
    "name = 'Mike'\n",
    "pq = name.find('i')\n",
    "pq\n",
    "\n",
    "for ei in list:\n",
    "    strfact = str(sym.factor(ei))\n",
    "    \n",
    "    if strfact.find('(')!=-1:\n",
    "        #display(Math(str(sym.latex((sym.factor(ei))))))\n",
    "        display(Math('%s \\\\Rightarrow %s' %(sym.latex(ei),sym.latex(sym.factor(ei)))))\n",
    "    else:\n",
    "        display(Math('%s \\\\quad \\\\Rightarrow \\\\quad Not factorable' %ei))\n",
    "    "
   ]
  }
 ],
 "metadata": {
  "kernelspec": {
   "display_name": "Python 3",
   "language": "python",
   "name": "python3"
  },
  "language_info": {
   "codemirror_mode": {
    "name": "ipython",
    "version": 3
   },
   "file_extension": ".py",
   "mimetype": "text/x-python",
   "name": "python",
   "nbconvert_exporter": "python",
   "pygments_lexer": "ipython3",
   "version": "3.8.5"
  }
 },
 "nbformat": 4,
 "nbformat_minor": 4
}
