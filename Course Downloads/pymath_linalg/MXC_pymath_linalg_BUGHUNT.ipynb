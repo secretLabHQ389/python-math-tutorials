{
 "cells": [
  {
   "cell_type": "markdown",
   "metadata": {},
   "source": [
    "# COURSE: Master math by coding in Python\n",
    "## SECTION: Linear algebra\n",
    "\n",
    "#### www.udemy.com/master-math-with-python\n",
    "#### INSTRUCTOR: sincxpress.com\n",
    "\n",
    "Note about this code: Each video in this section of the course corresponds to a section of code below. Please note that this code roughly matches the code shown in the live recording, but is not exactly the same -- the variable names, order of lines, and parameters may be slightly different. "
   ]
  },
  {
   "cell_type": "code",
   "execution_count": 19,
   "metadata": {},
   "outputs": [],
   "source": [
    "import numpy as np\n",
    "import matplotlib.pyplot as plt\n",
    "import sympy as sym\n",
    "from IPython.display import display,Math\n",
    "from mpl_toolkits.mplot3d import Axes3D\n",
    "from PIL import Image"
   ]
  },
  {
   "cell_type": "markdown",
   "metadata": {},
   "source": [
    "# Linear algebra BUG HUNT!!"
   ]
  },
  {
   "cell_type": "code",
   "execution_count": 16,
   "metadata": {},
   "outputs": [
    {
     "data": {
      "text/latex": [
       "$\\displaystyle \\left[\\begin{matrix}-2\\\\3\\end{matrix}\\right]$"
      ],
      "text/plain": [
       "<IPython.core.display.Math object>"
      ]
     },
     "metadata": {},
     "output_type": "display_data"
    }
   ],
   "source": [
    "# create a column vector\n",
    "cv = np.array([ [-2], [3] ])\n",
    "\n",
    "display(Math(sym.latex(sym.sympify(cv))))"
   ]
  },
  {
   "cell_type": "code",
   "execution_count": 24,
   "metadata": {},
   "outputs": [
    {
     "ename": "TypeError",
     "evalue": "'str' object is not callable",
     "output_type": "error",
     "traceback": [
      "\u001b[0;31m---------------------------------------------------------------------------\u001b[0m",
      "\u001b[0;31mTypeError\u001b[0m                                 Traceback (most recent call last)",
      "\u001b[0;32m<ipython-input-24-b474dee2bc37>\u001b[0m in \u001b[0;36m<module>\u001b[0;34m\u001b[0m\n\u001b[1;32m     10\u001b[0m \u001b[0;31m#plt.axis('square')\u001b[0m\u001b[0;34m\u001b[0m\u001b[0;34m\u001b[0m\u001b[0;34m\u001b[0m\u001b[0m\n\u001b[1;32m     11\u001b[0m \u001b[0mplt\u001b[0m\u001b[0;34m.\u001b[0m\u001b[0mlegend\u001b[0m\u001b[0;34m(\u001b[0m\u001b[0;34m)\u001b[0m\u001b[0;34m\u001b[0m\u001b[0;34m\u001b[0m\u001b[0m\n\u001b[0;32m---> 12\u001b[0;31m \u001b[0mplt\u001b[0m\u001b[0;34m.\u001b[0m\u001b[0maxis\u001b[0m\u001b[0;34m(\u001b[0m\u001b[0;34m[\u001b[0m\u001b[0;34m-\u001b[0m\u001b[0;36m3\u001b[0m\u001b[0;34m,\u001b[0m\u001b[0;36m3\u001b[0m\u001b[0;34m,\u001b[0m\u001b[0;34m-\u001b[0m\u001b[0;36m3\u001b[0m\u001b[0;34m,\u001b[0m\u001b[0;36m3\u001b[0m\u001b[0;34m]\u001b[0m\u001b[0;34m)\u001b[0m\u001b[0;34m\u001b[0m\u001b[0;34m\u001b[0m\u001b[0m\n\u001b[0m\u001b[1;32m     13\u001b[0m \u001b[0mplt\u001b[0m\u001b[0;34m.\u001b[0m\u001b[0mgrid\u001b[0m\u001b[0;34m(\u001b[0m\u001b[0;34m)\u001b[0m\u001b[0;34m\u001b[0m\u001b[0;34m\u001b[0m\u001b[0m\n\u001b[1;32m     14\u001b[0m \u001b[0mplt\u001b[0m\u001b[0;34m.\u001b[0m\u001b[0mshow\u001b[0m\u001b[0;34m(\u001b[0m\u001b[0;34m)\u001b[0m\u001b[0;34m\u001b[0m\u001b[0;34m\u001b[0m\u001b[0m\n",
      "\u001b[0;31mTypeError\u001b[0m: 'str' object is not callable"
     ]
    },
    {
     "data": {
      "image/png": "[encoded data removed]",
      "text/plain": [
       "<Figure size 432x288 with 1 Axes>"
      ]
     },
     "metadata": {
      "needs_background": "light"
     },
     "output_type": "display_data"
    }
   ],
   "source": [
    "# visualize scalar-vector multiplication\n",
    "\n",
    "v = np.array([-2,2])\n",
    "s = .7\n",
    "\n",
    "sv = s*v\n",
    "plt.plot([0,v[0]],[0,v[1]],'ro-',linewidth=3,label='v')\n",
    "plt.plot([0,sv[0]],[0,sv[1]],'o-',linewidth=3,label='sv')\n",
    "    \n",
    "#plt.axis('square')\n",
    "plt.legend()\n",
    "plt.axis([-3,3,-3,3])\n",
    "plt.grid()\n",
    "plt.show()"
   ]
  },
  {
   "cell_type": "code",
   "execution_count": 26,
   "metadata": {},
   "outputs": [
    {
     "name": "stdout",
     "output_type": "stream",
     "text": [
      "-1.6929335598864044\t3.594174772554338\n"
     ]
    }
   ],
   "source": [
    "# algorithm to compute the dot product\n",
    "v = np.random.randn(7)\n",
    "w = np.random.randn(7)\n",
    "\n",
    "dp1 = 0\n",
    "for i in range(0,len(v)):\n",
    "    dp1 += v[i]*w[1]\n",
    "\n",
    "dp2 = np.dot(v,w)\n",
    "\n",
    "print(str(dp1) + '\\t' + str(dp2))"
   ]
  },
  {
   "cell_type": "code",
   "execution_count": 28,
   "metadata": {},
   "outputs": [
    {
     "name": "stdout",
     "output_type": "stream",
     "text": [
      "0.9027936776716696\n",
      "0.9027936776716695\n"
     ]
    }
   ],
   "source": [
    "# number of data points\n",
    "n = 10\n",
    "\n",
    "# data\n",
    "data1 = np.arange(0,n) + np.random.randn(n)\n",
    "data2 = np.arange(0,n) + np.random.randn(n)\n",
    "\n",
    "# mean-center\n",
    "data1 -= np.mean(data1)\n",
    "data2 -= np.mean(data2)\n",
    "\n",
    "# compute correlation\n",
    "numer = np.dot(data1,data2)\n",
    "denom = np.sqrt( np.dot(data1,data1) ) * np.sqrt(np.dot(data2,data2))\n",
    "r1 = numer/denom\n",
    "\n",
    "# confirm with numpy function\n",
    "r2 = np.corrcoef(data1,data2)[1][0]\n",
    "\n",
    "print(r1)\n",
    "print(r2)"
   ]
  },
  {
   "cell_type": "code",
   "execution_count": 30,
   "metadata": {},
   "outputs": [
    {
     "name": "stdout",
     "output_type": "stream",
     "text": [
      "[[0. 0. 0. 0.]\n",
      " [0. 0. 0. 0.]\n",
      " [0. 0. 0. 0.]\n",
      " [0. 0. 0. 0.]\n",
      " [0. 0. 0. 0.]\n",
      " [0. 0. 0. 0.]\n",
      " [0. 0. 0. 0.]]\n"
     ]
    }
   ],
   "source": [
    "# outer product computation\n",
    "o1 = np.random.randint(0,10,7)\n",
    "o2 = np.random.randint(0,10,4)\n",
    "\n",
    "outermat = np.zeros((len(o1),len(o2)))\n",
    "\n",
    "for i in range(len(o1)):\n",
    "    outermat[i,:] = o1[i]*o2\n",
    "    \n",
    "print(outermat-np.outer(o1,o2))"
   ]
  },
  {
   "cell_type": "code",
   "execution_count": 31,
   "metadata": {},
   "outputs": [
    {
     "data": {
      "text/plain": [
       "array([[-0.6345831 ,  0.51331342, -0.20960099, -1.60600582,  0.43733568],\n",
       "       [ 1.09872427,  0.07982142,  1.76172067,  0.97631818,  0.17885272],\n",
       "       [ 0.12090044, -0.67087024, -0.81257084, -0.69425727, -0.69550672],\n",
       "       [-1.18533368,  0.77620716,  1.11836329,  0.15071769,  0.99580168],\n",
       "       [-0.30944035,  0.32723785, -0.50156675, -1.63987169, -1.33084248]])"
      ]
     },
     "execution_count": 31,
     "metadata": {},
     "output_type": "execute_result"
    }
   ],
   "source": [
    "# matrix multiplication\n",
    "A = np.random.randn(5,5)\n",
    "I = np.eye(5)\n",
    "\n",
    "A@I"
   ]
  },
  {
   "cell_type": "code",
   "execution_count": 32,
   "metadata": {},
   "outputs": [
    {
     "name": "stdout",
     "output_type": "stream",
     "text": [
      "[[-0.10709146 -1.38814846 -0.5278103  -0.55693175  0.03703472]\n",
      " [-0.54798858 -1.0409647  -0.32712444  0.56923242 -0.38827902]\n",
      " [-1.70431131  0.25639787 -1.24677623 -1.95489927 -1.52326694]\n",
      " [ 0.66534732 -1.58881601 -0.72178275 -0.54719315 -0.49761413]\n",
      " [-0.98548654  1.7496801  -0.76412527  0.77464928  0.12350875]\n",
      " [ 0.07542226 -0.87033043 -0.27698225  0.98819195  0.22359509]\n",
      " [-2.03957092 -1.16635049 -0.39271647 -1.32888085 -0.40945653]\n",
      " [ 0.40974053  0.4847519   0.69928163 -1.06331803 -2.35944382]]\n",
      " \n",
      "[[-0.10709146 -1.38814846 -0.5278103  -0.55693175  0.03703472]\n",
      " [-0.54798858 -1.0409647  -0.32712444  0.56923242 -0.38827902]\n",
      " [-1.70431131  0.25639787 -1.24677623 -1.95489927 -1.52326694]\n",
      " [ 0.66534732 -1.58881601 -0.72178275 -0.54719315 -0.49761413]\n",
      " [-0.98548654  1.7496801  -0.76412527  0.77464928  0.12350875]\n",
      " [ 0.07542226 -0.87033043 -0.27698225  0.98819195  0.22359509]\n",
      " [-2.03957092 -1.16635049 -0.39271647 -1.32888085 -0.40945653]\n",
      " [ 0.40974053  0.4847519   0.69928163 -1.06331803 -2.35944382]]\n"
     ]
    }
   ],
   "source": [
    "# matrix multiplication\n",
    "A = np.random.randn(8,5)\n",
    "I = np.eye(5)\n",
    "\n",
    "print(A)\n",
    "print(' ')\n",
    "print(A@I)"
   ]
  },
  {
   "cell_type": "code",
   "execution_count": 33,
   "metadata": {},
   "outputs": [
    {
     "data": {
      "text/plain": [
       "array([[ 1.,  0.,  0., -0., -0.],\n",
       "       [ 0.,  1., -0.,  0.,  0.],\n",
       "       [ 0.,  0.,  1., -0., -0.],\n",
       "       [ 0.,  0., -0.,  1., -0.],\n",
       "       [ 0.,  0.,  0.,  0.,  1.]])"
      ]
     },
     "execution_count": 33,
     "metadata": {},
     "output_type": "execute_result"
    }
   ],
   "source": [
    "# random matrices are invertible\n",
    "A = np.random.randint(-5,6,(5,5))\n",
    "Ainv = np.linalg.inv(A)\n",
    "\n",
    "np.round(A@Ainv,4)"
   ]
  },
  {
   "cell_type": "code",
   "execution_count": 34,
   "metadata": {},
   "outputs": [
    {
     "name": "stdout",
     "output_type": "stream",
     "text": [
      "(5, 5)\n"
     ]
    },
    {
     "data": {
      "image/png": "[encoded data removed]",
      "text/plain": [
       "<Figure size 432x288 with 1 Axes>"
      ]
     },
     "metadata": {
      "needs_background": "light"
     },
     "output_type": "display_data"
    }
   ],
   "source": [
    "# plot the eigenspectrum\n",
    "# the matrix\n",
    "M = np.random.randint(-5,5,(5,5))\n",
    "M = M@M.T\n",
    "print(np.shape(M))\n",
    "\n",
    "# its eigendecomposition\n",
    "eigvecs,eigvals = np.linalg.eig(M)\n",
    "\n",
    "plt.plot(np.matrix.flatten(eigvals),'s-')\n",
    "plt.xlabel('Components')\n",
    "plt.ylabel('Eigenvalues')\n",
    "\n",
    "plt.show()"
   ]
  },
  {
   "cell_type": "code",
   "execution_count": 37,
   "metadata": {},
   "outputs": [
    {
     "data": {
      "image/png": "[encoded data removed]",
      "text/plain": [
       "<Figure size 432x288 with 3 Axes>"
      ]
     },
     "metadata": {
      "needs_background": "light"
     },
     "output_type": "display_data"
    }
   ],
   "source": [
    "# Reconstruct a matrix based on its SVD\n",
    "A = np.random.randint(-10,11,(10,20))\n",
    "\n",
    "U,s,V = np.linalg.svd(A)\n",
    "\n",
    "# reconstruct S\n",
    "#S = np.diag(s)\n",
    "S = np.zeros(np.shape(A))\n",
    "for i in range(len(s)):\n",
    "    S[i,i] = s[i]\n",
    "\n",
    "Arecon = U@S@V\n",
    "\n",
    "fig,ax = plt.subplots(1,3)\n",
    "\n",
    "ax[0].imshow(A,vmin=-10,vmax=10)\n",
    "ax[0].set_title('A')\n",
    "\n",
    "ax[1].imshow(Arecon,vmin=-10,vmax=10)\n",
    "ax[1].set_title('Arecon')\n",
    "\n",
    "ax[2].imshow(A-Arecon,vmin=-10,vmax=10)\n",
    "ax[2].set_title('A-Arecon')\n",
    "\n",
    "plt.show()"
   ]
  }
 ],
 "metadata": {
  "kernelspec": {
   "display_name": "Python 3",
   "language": "python",
   "name": "python3"
  },
  "language_info": {
   "codemirror_mode": {
    "name": "ipython",
    "version": 3
   },
   "file_extension": ".py",
   "mimetype": "text/x-python",
   "name": "python",
   "nbconvert_exporter": "python",
   "pygments_lexer": "ipython3",
   "version": "3.8.5"
  }
 },
 "nbformat": 4,
 "nbformat_minor": 2
}
