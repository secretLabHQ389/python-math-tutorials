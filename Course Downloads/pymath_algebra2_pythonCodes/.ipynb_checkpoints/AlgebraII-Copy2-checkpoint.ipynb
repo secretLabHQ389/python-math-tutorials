{
 "cells": [
  {
   "cell_type": "code",
   "execution_count": 8,
   "metadata": {},
   "outputs": [
    {
     "name": "stdout",
     "output_type": "stream",
     "text": [
      "15\n",
      "72\n",
      "[ 1  4  8  9 15]\n",
      "37\n"
     ]
    },
    {
     "data": {
      "image/png": "[encoded data removed]",
      "text/plain": [
       "<Figure size 432x288 with 1 Axes>"
      ]
     },
     "metadata": {
      "needs_background": "light"
     },
     "output_type": "display_data"
    }
   ],
   "source": [
    "import numpy as np\n",
    "import matplotlib.pyplot as plt\n",
    "lst = [1,3,4,1,6]\n",
    "print(sum(lst))\n",
    "# np.sum(lst)\n",
    "print(np.prod(lst))\n",
    "print(np.cumsum(lst))\n",
    "print(np.sum(np.cumsum(lst)))\n",
    "plt.plot(lst,'rs-')\n",
    "plt.plot(np.cumsum(lst),'bo-')\n",
    "\n",
    "plt.legend(['set','cumsum'])\n",
    "plt.show()"
   ]
  },
  {
   "cell_type": "code",
   "execution_count": 20,
   "metadata": {},
   "outputs": [
    {
     "name": "stdout",
     "output_type": "stream",
     "text": [
      "Addition of an array: \n",
      "Option 1 = 0.2727272727272727 \n",
      "Option 2 = 0.06666666666666667\n",
      "Multiplication of an array: \n",
      "Option 1 = 0.008333333333333333 \n",
      "Option 2 = 0.008333333333333333\n"
     ]
    }
   ],
   "source": [
    "# Lect 67\n",
    "import numpy as np\n",
    "import matplotlib.pyplot as plt\n",
    "# my try\n",
    "# lst = range(1,11)\n",
    "# for i in lst:\n",
    "#     lst2 = (np.sum/(np.cumsum^{2})[i])\n",
    "# print(lst2)\n",
    "\n",
    "# for i in lst:\n",
    "#     lst3 = (np.prod/(np.cumprod**2))\n",
    "# print(lst3)\n",
    "\n",
    "# Sumation comparison-\n",
    "a = np.arange(1,6)\n",
    "suma = np.sum(a)\n",
    "suma2 = np.sum(a**2)\n",
    "ans1 = suma / suma2\n",
    "ans2 = 1 / suma\n",
    "print('Addition of an array: \\nOption 1 = %s \\nOption 2 = %s' %(ans1, ans2))\n",
    "\n",
    "# Product comparison-\n",
    "proda = np.prod(a)\n",
    "proda2 = np.prod(a**2)\n",
    "ans3 = proda / proda2\n",
    "ans4 = 1 / proda\n",
    "print('Multiplication of an array: \\nOption 1 = %s \\nOption 2 = %s' %(ans3, ans4))"
   ]
  },
  {
   "cell_type": "code",
   "execution_count": 27,
   "metadata": {},
   "outputs": [
    {
     "name": "stdout",
     "output_type": "stream",
     "text": [
      "[   1    1    1    1    1    6  222    0 -233    1    3  229 -232   -1\n",
      "   42  -42]\n",
      "[   0    0    0    0    5  216 -222 -233  234    2  226 -461  231   43\n",
      "  -84]\n"
     ]
    }
   ],
   "source": [
    "# Discreet derivatives (Calculus topic):\n",
    "# subtract previous in a list from current-\n",
    "x = [1,2,3,4,5,6,12,234,234,1,2,5,234,2,1,43,1]\n",
    "x[1]-x[0] #needs a fn to be scalable\n",
    "print(np.diff(x))\n",
    "print(np.diff(x,2))"
   ]
  },
  {
   "cell_type": "code",
   "execution_count": 26,
   "metadata": {},
   "outputs": [
    {
     "name": "stdout",
     "output_type": "stream",
     "text": [
      "[ 0  1  2  3  4  5  6  7  8  9 10]\n"
     ]
    }
   ],
   "source": [
    "v = np.arange(0,11)\n",
    "print(v)\n",
    "print(np.diff(v,2)) # second order derivative means taking the difference of the difference\n",
    "# basically the change in the differences, a straight line is 0, it shows a curve if not 0\n",
    "# Ex.- seeing which speeds a car has the fastest acceleration at\n"
   ]
  },
  {
   "cell_type": "code",
   "execution_count": 53,
   "metadata": {},
   "outputs": [
    {
     "data": {
      "image/png": "[encoded data removed]",
      "text/plain": [
       "<Figure size 432x288 with 1 Axes>"
      ]
     },
     "metadata": {
      "needs_background": "light"
     },
     "output_type": "display_data"
    }
   ],
   "source": [
    "#My try Lec. 68\n",
    "import numpy as np\n",
    "import matplotlib.pyplot as plt\n",
    "\n",
    "# x = range(-3,4)\n",
    "# y = np.zeros(len(x))\n",
    "\n",
    "# for i in range(0,len(x)):\n",
    "#     y[i] = x[i]**2\n",
    "    \n",
    "# plt.plot(x,y,'s-')\n",
    "# plt.plot(np.diff(y))\n",
    "# plt.axis('square')\n",
    "# plt.xlim(-5,5)\n",
    "# plt.ylim(-5,5)\n",
    "# plt.grid()\n",
    "# plt.show()\n",
    "\n",
    "x = np.linspace(-2,2,100)\n",
    "f = x**2\n",
    "df = np.diff(f)\n",
    "dx = np.diff(x)\n",
    "\n",
    "plt.plot(x,f,label='f')\n",
    "plt.plot(x[:-1],df/dx,label='df/dx') #penultimate point, second to last\n",
    "plt.axis([-2,2,-1,2])\n",
    "plt.legend()\n",
    "plt.grid()\n",
    "plt.show()"
   ]
  },
  {
   "cell_type": "code",
   "execution_count": 98,
   "metadata": {},
   "outputs": [
    {
     "data": {
      "text/latex": [
       "$\\displaystyle \\text{A degree-}1 \\text{ polynomial has }v \\text{ roots} $"
      ],
      "text/plain": [
       "<IPython.core.display.Math object>"
      ]
     },
     "metadata": {},
     "output_type": "display_data"
    },
    {
     "data": {
      "text/latex": [
       "$\\displaystyle \\text{A degree-}2 \\text{ polynomial has }2*v**2 \\text{ roots} $"
      ],
      "text/plain": [
       "<IPython.core.display.Math object>"
      ]
     },
     "metadata": {},
     "output_type": "display_data"
    },
    {
     "data": {
      "text/latex": [
       "$\\displaystyle \\text{A degree-}3 \\text{ polynomial has }3*v**3 \\text{ roots} $"
      ],
      "text/plain": [
       "<IPython.core.display.Math object>"
      ]
     },
     "metadata": {},
     "output_type": "display_data"
    },
    {
     "data": {
      "text/latex": [
       "$\\displaystyle \\text{A degree-}4 \\text{ polynomial has }4*v**4 \\text{ roots} $"
      ],
      "text/plain": [
       "<IPython.core.display.Math object>"
      ]
     },
     "metadata": {},
     "output_type": "display_data"
    },
    {
     "data": {
      "text/latex": [
       "$\\displaystyle \\text{A degree-}5 \\text{ polynomial has }5*v**5 \\text{ roots} $"
      ],
      "text/plain": [
       "<IPython.core.display.Math object>"
      ]
     },
     "metadata": {},
     "output_type": "display_data"
    },
    {
     "data": {
      "text/latex": [
       "$\\displaystyle \\text{A degree-}6 \\text{ polynomial has }6*v**6 \\text{ roots} $"
      ],
      "text/plain": [
       "<IPython.core.display.Math object>"
      ]
     },
     "metadata": {},
     "output_type": "display_data"
    },
    {
     "data": {
      "text/latex": [
       "$\\displaystyle \\text{A degree-}7 \\text{ polynomial has }7*v**7 \\text{ roots} $"
      ],
      "text/plain": [
       "<IPython.core.display.Math object>"
      ]
     },
     "metadata": {},
     "output_type": "display_data"
    },
    {
     "data": {
      "text/latex": [
       "$\\displaystyle \\text{A degree-}8 \\text{ polynomial has }8*v**8 \\text{ roots} $"
      ],
      "text/plain": [
       "<IPython.core.display.Math object>"
      ]
     },
     "metadata": {},
     "output_type": "display_data"
    },
    {
     "data": {
      "text/latex": [
       "$\\displaystyle \\text{A degree-}9 \\text{ polynomial has }9*v**9 \\text{ roots} $"
      ],
      "text/plain": [
       "<IPython.core.display.Math object>"
      ]
     },
     "metadata": {},
     "output_type": "display_data"
    },
    {
     "data": {
      "text/latex": [
       "$\\displaystyle \\text{A degree-}10 \\text{ polynomial has }10*v**10 \\text{ roots} $"
      ],
      "text/plain": [
       "<IPython.core.display.Math object>"
      ]
     },
     "metadata": {},
     "output_type": "display_data"
    },
    {
     "name": "stdout",
     "output_type": "stream",
     "text": [
      "A degree-0 polynomial has 0 roots\n",
      "A degree-1 polynomial has 1 roots\n",
      "A degree-2 polynomial has 2 roots\n",
      "A degree-3 polynomial has 3 roots\n",
      "A degree-4 polynomial has 4 roots\n",
      "A degree-5 polynomial has 5 roots\n",
      "A degree-6 polynomial has 6 roots\n",
      "A degree-7 polynomial has 7 roots\n",
      "A degree-8 polynomial has 8 roots\n",
      "A degree-9 polynomial has 9 roots\n"
     ]
    }
   ],
   "source": [
    "import numpy as np\n",
    "import sympy as sym\n",
    "from IPython.display import display,Math\n",
    "\n",
    "x,v,u = sym.symbols('x v u')\n",
    "\n",
    "## the polynomial:\n",
    "# 3x^2 + 2x - 1\n",
    "\n",
    "# define the coefficients\n",
    "# coefs = [3,2,-1]\n",
    "# roots = np.roots(coefs)\n",
    "# print(roots) #2 roots- 2 solutions to setting polynomial to zero\n",
    "# pn = 3*x**2+2*x-1\n",
    "# for i in roots:\n",
    "#     display(Math('\\\\text{At }x=%g, \\\\quad %s = %g' %(i,sym.latex(pn),pn.subs(x,i))))\n",
    "\n",
    "#My try Lect. 70\n",
    "#g = [int(0),int(1),int(2),int(3),int(4),int(5),int(6),int(7),int(8),int(9)]\n",
    "\n",
    "# n = 9\n",
    "eq = u*v**u\n",
    "for i in range(1,11):\n",
    "    rf = eq.subs(u,i)\n",
    "    display(Math('\\\\text{A degree-}%g \\\\text{ polynomial has }%s \\\\text{ roots} ' %(i,rf)))\n",
    "    \n",
    "\n",
    "# answer is that the answer for how many roots there are is given in a list, so get its len()-\n",
    "for i in range(1,11):\n",
    "    coefs = np.arange(1,i+1)\n",
    "    print('A degree-%g polynomial has %s roots' %(len(coefs)-1,len(np.roots(coefs))))"
   ]
  },
  {
   "cell_type": "code",
   "execution_count": 110,
   "metadata": {},
   "outputs": [
    {
     "name": "stdout",
     "output_type": "stream",
     "text": [
      "(-1.1666666666666665+0.5527707983925666j) (-1.1666666666666665-0.5527707983925666j)\n"
     ]
    }
   ],
   "source": [
    "import numpy as np\n",
    "# import scipy as sp\n",
    "import numpy.lib.scimath as sp\n",
    "\n",
    "a = 3\n",
    "b = 7\n",
    "c = 5\n",
    "\n",
    "quadeqPositive = ( -b + sp.sqrt(b**2 - 4*a*c)) / (2*a)\n",
    "quadeqNegative = ( -b - sp.sqrt(b**2 - 4*a*c)) / (2*a)\n",
    "print(quadeqPositive,quadeqNegative) # answers include imaginary numbers if a and c outsizes b"
   ]
  },
  {
   "cell_type": "code",
   "execution_count": 113,
   "metadata": {},
   "outputs": [],
   "source": [
    "import numpy.lib.scimath as sp\n",
    "def quadeq(a,b,c):\n",
    "    # initialize\n",
    "    out = np.zeros(2)\n",
    "    # compute\n",
    "    out[0] = ( -b + sp.sqrt(b**2 - 4*a*c)) / (2*a)\n",
    "    out[1] = ( -b - sp.sqrt(b**2 - 4*a*c)) / (2*a)\n",
    "    return out\n",
    "    "
   ]
  },
  {
   "cell_type": "code",
   "execution_count": 114,
   "metadata": {},
   "outputs": [
    {
     "data": {
      "text/plain": [
       "array([-1. , -2.5])"
      ]
     },
     "execution_count": 114,
     "metadata": {},
     "output_type": "execute_result"
    }
   ],
   "source": [
    "sol = quadeq(2,7,5)\n",
    "sol"
   ]
  },
  {
   "cell_type": "code",
   "execution_count": 122,
   "metadata": {},
   "outputs": [
    {
     "name": "stderr",
     "output_type": "stream",
     "text": [
      "<ipython-input-122-90c7c8bcbfd9>:24: ComplexWarning: Casting complex values to real discards the imaginary part\n",
      "  out[0] = ( -b + sp.sqrt(b**2 - 4*a*c)) / (2*a)\n",
      "<ipython-input-122-90c7c8bcbfd9>:25: ComplexWarning: Casting complex values to real discards the imaginary part\n",
      "  out[1] = ( -b - sp.sqrt(b**2 - 4*a*c)) / (2*a)\n"
     ]
    },
    {
     "data": {
      "image/png": "[encoded data removed]",
      "text/plain": [
       "<Figure size 432x288 with 2 Axes>"
      ]
     },
     "metadata": {
      "needs_background": "light"
     },
     "output_type": "display_data"
    }
   ],
   "source": [
    "import numpy as np\n",
    "# import scipy as sp\n",
    "import numpy.lib.scimath as sp\n",
    "import matplotlib.pyplot as plt\n",
    "\n",
    "# My thoughts, Lect. 71\n",
    "# a = 1\n",
    "# b = range(-5,6)\n",
    "# c = range(-2,11)\n",
    "\n",
    "# M = [ [quadeqPositive[0],[quadeqPositive[1]],[quadeqPositive[0],[quadeqPositive[1]] ]\n",
    "\n",
    "# for i in b:\n",
    "#     for j in c:\n",
    "#         quadeqPositive = ( -b + sp.sqrt(b**2 - 4*a*c)) / (2*a)\n",
    "#         print(quadeqPositive)\n",
    "\n",
    "# Ans-\n",
    "import numpy.lib.scimath as sp\n",
    "def quadeq(a,b,c):\n",
    "    # initialize\n",
    "    out = np.zeros(2)\n",
    "    # compute\n",
    "    out[0] = ( -b + sp.sqrt(b**2 - 4*a*c)) / (2*a)\n",
    "    out[1] = ( -b - sp.sqrt(b**2 - 4*a*c)) / (2*a)\n",
    "    return out\n",
    "\n",
    "a = 1\n",
    "b = range(-5,6)\n",
    "c = range(-2,11)\n",
    "\n",
    "M = np.zeros((len(b),len(c)))\n",
    "\n",
    "for bi in range(0,len(b)):\n",
    "    for ci in range(0,len(c)):\n",
    "        M[bi,ci] = quadeq(a,b[bi],c[ci])[0]\n",
    "        \n",
    "plt.imshow(M,extent=[c[0],c[-1],b[0],b[-1]]) #draws the Matrix in the ans\n",
    "plt.xlabel('c')\n",
    "plt.ylabel('b')\n",
    "plt.title('a=' + str(a))\n",
    "plt.colorbar()\n",
    "plt.show()      "
   ]
  }
 ],
 "metadata": {
  "kernelspec": {
   "display_name": "Python 3",
   "language": "python",
   "name": "python3"
  },
  "language_info": {
   "codemirror_mode": {
    "name": "ipython",
    "version": 3
   },
   "file_extension": ".py",
   "mimetype": "text/x-python",
   "name": "python",
   "nbconvert_exporter": "python",
   "pygments_lexer": "ipython3",
   "version": "3.8.5"
  }
 },
 "nbformat": 4,
 "nbformat_minor": 4
}
