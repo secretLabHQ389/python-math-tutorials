{
 "cells": [
  {
   "cell_type": "markdown",
   "metadata": {},
   "source": [
    "# Algebra BUG HUNT!"
   ]
  },
  {
   "cell_type": "code",
   "execution_count": 2,
   "metadata": {},
   "outputs": [
    {
     "name": "stdout",
     "output_type": "stream",
     "text": [
      "[1, 3, 4, 1, 6]\n"
     ]
    }
   ],
   "source": [
    "# create a list\n",
    "lst = [1,3,4,1,6]\n",
    "\n",
    "print( lst )"
   ]
  },
  {
   "cell_type": "code",
   "execution_count": 6,
   "metadata": {},
   "outputs": [
    {
     "ename": "ValueError",
     "evalue": "invalid number of arguments",
     "output_type": "error",
     "traceback": [
      "\u001b[0;31m---------------------------------------------------------------------------\u001b[0m",
      "\u001b[0;31mValueError\u001b[0m                                Traceback (most recent call last)",
      "\u001b[0;32m<ipython-input-6-27ddfd7c606c>\u001b[0m in \u001b[0;36m<module>\u001b[0;34m\u001b[0m\n\u001b[1;32m      2\u001b[0m \u001b[0;31m# add all the numbers together\u001b[0m\u001b[0;34m\u001b[0m\u001b[0;34m\u001b[0m\u001b[0;34m\u001b[0m\u001b[0m\n\u001b[1;32m      3\u001b[0m \u001b[0;32mfor\u001b[0m \u001b[0mi\u001b[0m \u001b[0;32min\u001b[0m \u001b[0mlst\u001b[0m\u001b[0;34m:\u001b[0m\u001b[0;34m\u001b[0m\u001b[0;34m\u001b[0m\u001b[0m\n\u001b[0;32m----> 4\u001b[0;31m     \u001b[0mprint\u001b[0m\u001b[0;34m(\u001b[0m \u001b[0mnp\u001b[0m\u001b[0;34m.\u001b[0m\u001b[0madd\u001b[0m\u001b[0;34m(\u001b[0m\u001b[0mlst\u001b[0m\u001b[0;34m[\u001b[0m\u001b[0mi\u001b[0m\u001b[0;34m]\u001b[0m\u001b[0;34m)\u001b[0m \u001b[0;34m)\u001b[0m\u001b[0;34m\u001b[0m\u001b[0;34m\u001b[0m\u001b[0m\n\u001b[0m",
      "\u001b[0;31mValueError\u001b[0m: invalid number of arguments"
     ]
    }
   ],
   "source": [
    "import numpy as np\n",
    "# add all the numbers together\n",
    "print(np.add(lst[i]) )"
   ]
  },
  {
   "cell_type": "code",
   "execution_count": null,
   "metadata": {},
   "outputs": [],
   "source": [
    "# plot the cumulative sum of a list of numbers\n",
    "l = np.arange(-4,10)\n",
    "\n",
    "plt.plot(l,'rs-')\n",
    "plt.plot(np.sum(1),'bo-')\n",
    "plt.legend({'list','cumsum'})\n",
    "plt.show()"
   ]
  },
  {
   "cell_type": "code",
   "execution_count": null,
   "metadata": {},
   "outputs": [],
   "source": [
    "### the equation:\n",
    "# 4 - 2x + 5x^3\n",
    "\n",
    "# define the coefficients\n",
    "coefs = [4,-2,5]\n",
    "\n",
    "# solve\n",
    "roots = np.roots(coefs)\n",
    "\n",
    "# and display\n",
    "from sympy.abc import x\n",
    "\n",
    "p = sym.Poly(coefs,x)\n",
    "\n",
    "display(Math(sym.latex(p)))"
   ]
  },
  {
   "cell_type": "code",
   "execution_count": null,
   "metadata": {},
   "outputs": [],
   "source": [
    "def quadeq(a,b,c):\n",
    "    \n",
    "    # compute\n",
    "    out[0] = ( -b - sp.sqrt(b**2 - 4*a*c) ) / (2*a)\n",
    "    out[1] = ( -b + sp.sqrt(b**2 - 4*a*c) ) / (2*a)\n",
    "    \n",
    "    # output\n",
    "    return out\n",
    "\n",
    "# test the function\n",
    "print(quadeq(1,4,2))"
   ]
  },
  {
   "cell_type": "code",
   "execution_count": null,
   "metadata": {},
   "outputs": [],
   "source": [
    "# create a complex number\n",
    "\n",
    "real_part = 4\n",
    "imag_part = -6\n",
    "\n",
    "cn = np.complex(imag_part,real_part)\n",
    "\n",
    "plt.plot(np.real(cn),np.imag(cn),'ro')\n",
    "plt.grid('on')\n",
    "plt.axis('square')\n",
    "plt.axis([-10,10,-10,10])\n",
    "plt.show()"
   ]
  },
  {
   "cell_type": "code",
   "execution_count": null,
   "metadata": {},
   "outputs": [],
   "source": [
    "# symbolic complex number\n",
    "a,b = sym.symbols('a,b',real=True)\n",
    "\n",
    "z = a + b*sym.1j\n",
    "display(Math('z\\\\times z^* = %s' %sym.latex(sym.expand(z*sym.conjugate(z)))))"
   ]
  },
  {
   "cell_type": "code",
   "execution_count": null,
   "metadata": {},
   "outputs": [],
   "source": [
    "# define the phase angles\n",
    "x = np.linspace(0,2*np.pi,100)\n",
    "\n",
    "# generate the plot\n",
    "plt.plot(np.cos(x),np.sin(x),'k')\n",
    "\n",
    "# draw one vector from the origin\n",
    "phs = 1*np.pi/4\n",
    "plt.plot([0,np.cos(phs)],[0,np.sin(phs)],'r-')\n",
    "plt.plot(np.cos(phs),np.sin(phs),'ro')\n",
    "\n",
    "\n",
    "# draw axis lines\n",
    "plt.plot([-1.3,1.3],[0,0],'--',color=[.8,.8,.8])\n",
    "plt.plot([0,0],[-1.3,1.3],'--',color=[.8,.8,.8])\n",
    "\n",
    "# make it look nicer\n",
    "plt.axis('square')\n",
    "plt.axis([-1.3,1.3,-1.3,1.3])\n",
    "plt.xlabel('sine(x)')\n",
    "plt.ylabel('cosine(x)')\n",
    "plt.plot()\n",
    "\n",
    "plt.show()"
   ]
  },
  {
   "cell_type": "code",
   "execution_count": null,
   "metadata": {},
   "outputs": [],
   "source": [
    "a =   2 # lower bound\n",
    "b = 100 # upper bound\n",
    "n =   3 # number of steps\n",
    "\n",
    "lo = np.logspace(np.log10(a),np.log10(b))\n",
    "li = np.linspace(a,b)\n",
    "\n",
    "plt.plot(li,lo,'s-',label='log')\n",
    "plt.plot(li,li,'o-',label='linear')\n",
    "\n",
    "plt.legend(['linear','log'])\n",
    "plt.axis('square')\n",
    "plt.show()"
   ]
  },
  {
   "cell_type": "code",
   "execution_count": null,
   "metadata": {},
   "outputs": [],
   "source": [
    "## Goal is to plot the point on the function closest to f(x)=.5\n",
    "\n",
    "\n",
    "# x range\n",
    "x = np.linspace(-6,10,20)\n",
    "\n",
    "# the function f(x)\n",
    "fx = 1/(1+np.exp(x))\n",
    "\n",
    "# function maximum\n",
    "fmaxidx = np.argmin(abs(fx-.5))\n",
    "\n",
    "# draw the function\n",
    "plt.plot(x,fx,'bo-')\n",
    "plt.plot(fmaxidx,fx[fmaxidx],'rs')\n",
    "\n",
    "plt.show()"
   ]
  },
  {
   "cell_type": "code",
   "execution_count": null,
   "metadata": {},
   "outputs": [],
   "source": [
    "## Goal is to find the local minima by adding one character\n",
    "\n",
    "from scipy.signal import find_peaks\n",
    "\n",
    "# x range\n",
    "x = np.linspace(0,12*np.pi,200)\n",
    "\n",
    "# the function f(x)\n",
    "fx = -( np.cos(x) + x**(1/2) )\n",
    "\n",
    "# find peaks\n",
    "peeks = find_peaks(fx)\n",
    "\n",
    "# draw the function\n",
    "plt.plot(x,fx)\n",
    "plt.plot(x[peeks[0]],fx[peeks[0]],'o')\n",
    "plt.show()\n"
   ]
  }
 ],
 "metadata": {
  "kernelspec": {
   "display_name": "Python 3",
   "language": "python",
   "name": "python3"
  },
  "language_info": {
   "codemirror_mode": {
    "name": "ipython",
    "version": 3
   },
   "file_extension": ".py",
   "mimetype": "text/x-python",
   "name": "python",
   "nbconvert_exporter": "python",
   "pygments_lexer": "ipython3",
   "version": "3.8.5"
  }
 },
 "nbformat": 4,
 "nbformat_minor": 2
}
