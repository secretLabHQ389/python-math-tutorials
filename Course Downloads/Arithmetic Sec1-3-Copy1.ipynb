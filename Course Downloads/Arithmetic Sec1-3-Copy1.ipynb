{
 "cells": [
  {
   "cell_type": "code",
   "execution_count": 2,
   "metadata": {},
   "outputs": [
    {
     "data": {
      "text/plain": [
       "13"
      ]
     },
     "execution_count": 2,
     "metadata": {},
     "output_type": "execute_result"
    }
   ],
   "source": [
    "4+9"
   ]
  },
  {
   "cell_type": "code",
   "execution_count": 3,
   "metadata": {},
   "outputs": [
    {
     "data": {
      "text/plain": [
       "9"
      ]
     },
     "execution_count": 3,
     "metadata": {},
     "output_type": "execute_result"
    }
   ],
   "source": [
    "2+7"
   ]
  },
  {
   "cell_type": "code",
   "execution_count": 4,
   "metadata": {},
   "outputs": [
    {
     "data": {
      "text/plain": [
       "-1"
      ]
     },
     "execution_count": 4,
     "metadata": {},
     "output_type": "execute_result"
    }
   ],
   "source": [
    "6-7"
   ]
  },
  {
   "cell_type": "code",
   "execution_count": 5,
   "metadata": {},
   "outputs": [
    {
     "data": {
      "text/plain": [
       "4.7"
      ]
     },
     "execution_count": 5,
     "metadata": {},
     "output_type": "execute_result"
    }
   ],
   "source": [
    "5-((2/4)*(3/5))"
   ]
  },
  {
   "cell_type": "code",
   "execution_count": 6,
   "metadata": {},
   "outputs": [
    {
     "data": {
      "text/plain": [
       "-0.030303030303030304"
      ]
     },
     "execution_count": 6,
     "metadata": {},
     "output_type": "execute_result"
    }
   ],
   "source": [
    "(4-5)/(3+5*6)"
   ]
  },
  {
   "cell_type": "code",
   "execution_count": 8,
   "metadata": {},
   "outputs": [
    {
     "data": {
      "text/plain": [
       "9"
      ]
     },
     "execution_count": 8,
     "metadata": {},
     "output_type": "execute_result"
    }
   ],
   "source": [
    "x = 9\n",
    "x"
   ]
  },
  {
   "cell_type": "code",
   "execution_count": 11,
   "metadata": {},
   "outputs": [
    {
     "data": {
      "text/plain": [
       "21"
      ]
     },
     "execution_count": 11,
     "metadata": {},
     "output_type": "execute_result"
    }
   ],
   "source": [
    "x + 12"
   ]
  },
  {
   "cell_type": "code",
   "execution_count": 13,
   "metadata": {},
   "outputs": [],
   "source": [
    "x = x*x"
   ]
  },
  {
   "cell_type": "code",
   "execution_count": 14,
   "metadata": {},
   "outputs": [],
   "source": [
    "x = x + 12"
   ]
  },
  {
   "cell_type": "code",
   "execution_count": 15,
   "metadata": {},
   "outputs": [
    {
     "data": {
      "text/plain": [
       "6573"
      ]
     },
     "execution_count": 15,
     "metadata": {},
     "output_type": "execute_result"
    }
   ],
   "source": [
    "x"
   ]
  },
  {
   "cell_type": "code",
   "execution_count": 16,
   "metadata": {},
   "outputs": [
    {
     "data": {
      "text/plain": [
       "43204329"
      ]
     },
     "execution_count": 16,
     "metadata": {},
     "output_type": "execute_result"
    }
   ],
   "source": [
    "x = x*x\n",
    "x"
   ]
  },
  {
   "cell_type": "code",
   "execution_count": 18,
   "metadata": {},
   "outputs": [
    {
     "name": "stdout",
     "output_type": "stream",
     "text": [
      "23\n"
     ]
    },
    {
     "data": {
      "text/plain": [
       "230"
      ]
     },
     "execution_count": 18,
     "metadata": {},
     "output_type": "execute_result"
    }
   ],
   "source": [
    "c = 10\n",
    "a = 23\n",
    "x = c*a\n",
    "print(a)\n",
    "x"
   ]
  },
  {
   "cell_type": "code",
   "execution_count": 22,
   "metadata": {},
   "outputs": [
    {
     "name": "stdout",
     "output_type": "stream",
     "text": [
      "42\n"
     ]
    },
    {
     "data": {
      "text/plain": [
       "0.0"
      ]
     },
     "execution_count": 22,
     "metadata": {},
     "output_type": "execute_result"
    }
   ],
   "source": [
    "x = 7\n",
    "y = -2\n",
    "z = 5\n",
    "print((3*x)*(4+y))\n",
    "-y - (x+3)/z"
   ]
  },
  {
   "cell_type": "code",
   "execution_count": 30,
   "metadata": {},
   "outputs": [
    {
     "data": {
      "text/plain": [
       "'4 + 3 = 7'"
      ]
     },
     "metadata": {},
     "output_type": "display_data"
    },
    {
     "data": {
      "text/plain": [
       "'4 + 3 = 7'"
      ]
     },
     "metadata": {},
     "output_type": "display_data"
    }
   ],
   "source": [
    "from IPython.display import display, Math\n",
    "\n",
    "display('4 + 3 = 7')\n",
    "display('4 + 3 = ' +  str(4+3))"
   ]
  },
  {
   "cell_type": "code",
   "execution_count": 43,
   "metadata": {},
   "outputs": [
    {
     "data": {
      "text/latex": [
       "$\\displaystyle 4 + 3 = 7$"
      ],
      "text/plain": [
       "<IPython.core.display.Math object>"
      ]
     },
     "metadata": {},
     "output_type": "display_data"
    },
    {
     "data": {
      "text/latex": [
       "$\\displaystyle 13$"
      ],
      "text/plain": [
       "<IPython.core.display.Math object>"
      ]
     },
     "metadata": {},
     "output_type": "display_data"
    },
    {
     "data": {
      "text/latex": [
       "$\\displaystyle 4+9=13$"
      ],
      "text/plain": [
       "<IPython.core.display.Math object>"
      ]
     },
     "metadata": {},
     "output_type": "display_data"
    },
    {
     "data": {
      "text/latex": [
       "$\\displaystyle 4/5 = .8$"
      ],
      "text/plain": [
       "<IPython.core.display.Math object>"
      ]
     },
     "metadata": {},
     "output_type": "display_data"
    },
    {
     "data": {
      "text/latex": [
       "$\\displaystyle \\frac{4}{5}=0.8$"
      ],
      "text/plain": [
       "<IPython.core.display.Math object>"
      ]
     },
     "metadata": {},
     "output_type": "display_data"
    },
    {
     "data": {
      "text/latex": [
       "$\\displaystyle 3.4 \\times 17 = 57.8$"
      ],
      "text/plain": [
       "<IPython.core.display.Math object>"
      ]
     },
     "metadata": {},
     "output_type": "display_data"
    }
   ],
   "source": [
    "display(Math('4 + 3 = ' + str(4+3)))\n",
    "\n",
    "x = 4\n",
    "y = 9\n",
    "\n",
    "display(Math(str(x+y)))\n",
    "\n",
    "display(Math('%g+%g=%g' %(x,y,x+y)))\n",
    "# this is called LaTex coding- printing in fractions and symbols\n",
    "display(Math('4/5 = .8'))\n",
    "display(Math('\\\\frac{4}{5}' + '=' + str(4/5)))\n",
    "\n",
    "e=3.4\n",
    "p=17\n",
    "display(Math('%g \\\\times %g = %g' %(e,p,e*p)))"
   ]
  },
  {
   "cell_type": "code",
   "execution_count": 51,
   "metadata": {},
   "outputs": [
    {
     "data": {
      "text/latex": [
       "$\\displaystyle 3x(4+y)=42$"
      ],
      "text/plain": [
       "<IPython.core.display.Math object>"
      ]
     },
     "metadata": {},
     "output_type": "display_data"
    },
    {
     "data": {
      "text/latex": [
       "$\\displaystyle 3 \\times 7 (4 + -2) = 42$"
      ],
      "text/plain": [
       "<IPython.core.display.Math object>"
      ]
     },
     "metadata": {},
     "output_type": "display_data"
    },
    {
     "data": {
      "text/latex": [
       "$\\displaystyle -y-\\frac{x+3}{z}=0$"
      ],
      "text/plain": [
       "<IPython.core.display.Math object>"
      ]
     },
     "metadata": {},
     "output_type": "display_data"
    },
    {
     "data": {
      "text/latex": [
       "$\\displaystyle --2 - \\frac{7 + 3}{z} = 0$"
      ],
      "text/plain": [
       "<IPython.core.display.Math object>"
      ]
     },
     "metadata": {},
     "output_type": "display_data"
    }
   ],
   "source": [
    "x = 7\n",
    "y = -2\n",
    "z = 5\n",
    "\n",
    "display(Math('3x(4+y)=42'))\n",
    "display(Math('3 \\\\times %g (4 + %g) = %g' %(x,y,3*x*(4+y))))\n",
    "\n",
    "display(Math('-y-' + '\\\\frac{x+3}{z}' + '=0'))\n",
    "display(Math('-%g - \\\\frac{%g + 3}{z} = %g' %(y,x,-y-((x+3)/z))))"
   ]
  },
  {
   "cell_type": "code",
   "execution_count": 58,
   "metadata": {},
   "outputs": [
    {
     "data": {
      "text/latex": [
       "$\\displaystyle 3x(4+y)=42$"
      ],
      "text/plain": [
       "<IPython.core.display.Math object>"
      ]
     },
     "metadata": {},
     "output_type": "display_data"
    },
    {
     "data": {
      "text/latex": [
       "$\\displaystyle 3 \\times 7 (4 + -2) = 42$"
      ],
      "text/plain": [
       "<IPython.core.display.Math object>"
      ]
     },
     "metadata": {},
     "output_type": "display_data"
    },
    {
     "data": {
      "text/latex": [
       "$\\displaystyle -y-\\frac{x+3}{z}=0$"
      ],
      "text/plain": [
       "<IPython.core.display.Math object>"
      ]
     },
     "metadata": {},
     "output_type": "display_data"
    },
    {
     "data": {
      "text/latex": [
       "$\\displaystyle --2 - \\frac{7 + 3}{z} = 0$"
      ],
      "text/plain": [
       "<IPython.core.display.Math object>"
      ]
     },
     "metadata": {},
     "output_type": "display_data"
    }
   ],
   "source": [
    "x = 7\n",
    "y = -2\n",
    "z = 5\n",
    "ans1 = 3*x*(4+y)\n",
    "ans2 = -y-((x+3)/z)\n",
    "\n",
    "display(Math('3x(4+y)=42'))\n",
    "display(Math('3 \\\\times %g (4 + %g) = %g' %(x,y,ans1)))\n",
    "\n",
    "display(Math('-y-' + '\\\\frac{x+3}{z}' + '=0'))\n",
    "display(Math('-%g - \\\\frac{%g + 3}{z} = %g' %(y,x,ans2)))"
   ]
  },
  {
   "cell_type": "code",
   "execution_count": 72,
   "metadata": {},
   "outputs": [
    {
     "name": "stdout",
     "output_type": "stream",
     "text": [
      "9\n",
      "9\n",
      "7\n"
     ]
    },
    {
     "data": {
      "text/latex": [
       "$\\displaystyle 3^2=9$"
      ],
      "text/plain": [
       "<IPython.core.display.Math object>"
      ]
     },
     "metadata": {},
     "output_type": "display_data"
    },
    {
     "data": {
      "text/latex": [
       "$\\displaystyle 3^2\\times 3^4 = 3^{2+4}$"
      ],
      "text/plain": [
       "<IPython.core.display.Math object>"
      ]
     },
     "metadata": {},
     "output_type": "display_data"
    }
   ],
   "source": [
    "print(3**2)\n",
    "print(3**(1+1))\n",
    "print(5^2)\n",
    "6**(1/3)\n",
    "# exponents in LaTex coding:\n",
    "display(Math('3^2=' + str(3**2)))\n",
    "display(Math('3^2\\\\times 3^4 = 3^{2+4}'))"
   ]
  },
  {
   "cell_type": "code",
   "execution_count": 77,
   "metadata": {},
   "outputs": [
    {
     "data": {
      "text/latex": [
       "$\\displaystyle x^{3/4}\\times4^y=3933.09$"
      ],
      "text/plain": [
       "<IPython.core.display.Math object>"
      ]
     },
     "metadata": {},
     "output_type": "display_data"
    },
    {
     "data": {
      "text/latex": [
       "$\\displaystyle \\frac{3^3}{x^y}=0.00735558$"
      ],
      "text/plain": [
       "<IPython.core.display.Math object>"
      ]
     },
     "metadata": {},
     "output_type": "display_data"
    },
    {
     "data": {
      "text/latex": [
       "$\\displaystyle 10^{x-4}=10$"
      ],
      "text/plain": [
       "<IPython.core.display.Math object>"
      ]
     },
     "metadata": {},
     "output_type": "display_data"
    }
   ],
   "source": [
    "x = 5\n",
    "y = 5.1\n",
    "ans1 = (x**(3/4))*4**y\n",
    "\n",
    "display(Math('x^{3/4}\\\\times4^y=%g' %ans1))\n",
    "\n",
    "ans2 = (3**3/x**y)\n",
    "display(Math('\\\\frac{3^3}{x^y}=%g' %ans2))\n",
    "\n",
    "ans3 = 10**(x-4)\n",
    "display(Math('10^{x-4}=%g' %ans3))"
   ]
  },
  {
   "cell_type": "code",
   "execution_count": 85,
   "metadata": {},
   "outputs": [
    {
     "name": "stdout",
     "output_type": "stream",
     "text": [
      "0\n",
      "2\n",
      "4\n",
      "6\n",
      "\n",
      "2 to the power of 2 is 1\n",
      "2 to the power of 2 is 2\n",
      "2 to the power of 2 is 4\n",
      "2 to the power of 2 is 8\n",
      "2 to the power of 2 is 16\n",
      "2 to the power of 2 is 32\n",
      "2 to the power of 2 is 64\n",
      "2 to the power of 2 is 128\n",
      "2 to the power of 2 is 256\n",
      "2 to the power of 2 is 512\n"
     ]
    }
   ],
   "source": [
    "# for x in [0,1,2,3]:\n",
    "# code for each item in array\n",
    "\n",
    "# for x in range(0,3) does x as 0,1,2 and doesn't do last number\n",
    "\n",
    "for i in [0,1,2,3]:\n",
    "    print(i*2)\n",
    "print('')\n",
    "base = 2\n",
    "for i in range(0,10):\n",
    "    print('2 to the power of %g is %g' %(base,base**i))"
   ]
  },
  {
   "cell_type": "code",
   "execution_count": 87,
   "metadata": {},
   "outputs": [
    {
     "name": "stdout",
     "output_type": "stream",
     "text": [
      "2.0\n"
     ]
    },
    {
     "data": {
      "text/plain": [
       "0.0"
      ]
     },
     "execution_count": 87,
     "metadata": {},
     "output_type": "execute_result"
    }
   ],
   "source": [
    "ans1 = (4*5)/(7+3)\n",
    "print(ans1)\n",
    "ans2 = (9 / (3+6)) - 1\n",
    "ans2"
   ]
  },
  {
   "cell_type": "code",
   "execution_count": 91,
   "metadata": {},
   "outputs": [
    {
     "data": {
      "text/plain": [
       "True"
      ]
     },
     "execution_count": 91,
     "metadata": {},
     "output_type": "execute_result"
    }
   ],
   "source": [
    "r = 4 + 3 > 5\n",
    "r"
   ]
  },
  {
   "cell_type": "code",
   "execution_count": 116,
   "metadata": {},
   "outputs": [
    {
     "name": "stdout",
     "output_type": "stream",
     "text": [
      "True\n",
      "9.99999999999999\n",
      "False\n",
      "10.000000000000021\n",
      "True\n"
     ]
    },
    {
     "data": {
      "text/plain": [
       "True"
      ]
     },
     "execution_count": 116,
     "metadata": {},
     "output_type": "execute_result"
    }
   ],
   "source": [
    "# interesting issue of should you round up or not, because if not never 10:\n",
    "b = 10 > 3*3.33333333333333\n",
    "print(b) # true\n",
    "print(3*3.33333333333333)\n",
    "c = 10 > 3*3.33333333333334\n",
    "print(c) # false\n",
    "print(3*3.33333333333334)\n",
    "\n",
    "print(4 <= 2+2)\n",
    "var = 4 == 2+2\n",
    "var"
   ]
  },
  {
   "cell_type": "code",
   "execution_count": 125,
   "metadata": {},
   "outputs": [
    {
     "name": "stdout",
     "output_type": "stream",
     "text": [
      "True\n",
      "True\n"
     ]
    }
   ],
   "source": [
    "x = 2\n",
    "# x = 3\n",
    "# x = 4\n",
    "\n",
    "print((4*x+3)<(17-x^2))\n",
    "print((8*x-2)<=(-3*x+42))"
   ]
  },
  {
   "cell_type": "code",
   "execution_count": 131,
   "metadata": {},
   "outputs": [
    {
     "name": "stdout",
     "output_type": "stream",
     "text": [
      "second option\n"
     ]
    }
   ],
   "source": [
    "if 4+2==8:\n",
    "    print('correct')\n",
    "elif (3+9<=13):\n",
    "    print('second option')\n",
    "else:\n",
    "    print('all were wrong')"
   ]
  },
  {
   "cell_type": "code",
   "execution_count": 156,
   "metadata": {},
   "outputs": [
    {
     "data": {
      "text/latex": [
       "$\\displaystyle 1^{-1}=1$"
      ],
      "text/plain": [
       "<IPython.core.display.Math object>"
      ]
     },
     "metadata": {},
     "output_type": "display_data"
    },
    {
     "data": {
      "text/latex": [
       "$\\displaystyle 1^{-2}=1$"
      ],
      "text/plain": [
       "<IPython.core.display.Math object>"
      ]
     },
     "metadata": {},
     "output_type": "display_data"
    },
    {
     "data": {
      "text/latex": [
       "$\\displaystyle 1^{-3}=1$"
      ],
      "text/plain": [
       "<IPython.core.display.Math object>"
      ]
     },
     "metadata": {},
     "output_type": "display_data"
    },
    {
     "data": {
      "text/latex": [
       "$\\displaystyle 1^{-4}=1$"
      ],
      "text/plain": [
       "<IPython.core.display.Math object>"
      ]
     },
     "metadata": {},
     "output_type": "display_data"
    }
   ],
   "source": [
    "for i in range(1,4):\n",
    "    for j in range(1,5):\n",
    "        display(Math('%g^{-%g}=%g' %(i,j,i**(-j))))"
   ]
  },
  {
   "cell_type": "code",
   "execution_count": 155,
   "metadata": {},
   "outputs": [
    {
     "data": {
      "text/latex": [
       "$\\displaystyle |34| = 34$"
      ],
      "text/plain": [
       "<IPython.core.display.Math object>"
      ]
     },
     "metadata": {},
     "output_type": "display_data"
    }
   ],
   "source": [
    "# absolute value notation:\n",
    "x = 34\n",
    "abs(x)\n",
    "# |x| can't use this syntax in Python\n",
    "display(Math('|%g| = %g' %(x,abs(x))))"
   ]
  },
  {
   "cell_type": "code",
   "execution_count": 163,
   "metadata": {},
   "outputs": [
    {
     "name": "stdout",
     "output_type": "stream",
     "text": [
      "-4  was not tested.\n",
      "Absolute value of 6 is 6.\n",
      "-1  was not tested.\n",
      "Absolute value of 43 is 43.\n",
      "Absolute value of -18 is 18.\n",
      "2  was not tested.\n",
      "0  was not tested.\n"
     ]
    }
   ],
   "source": [
    "set = [-4,6,-1,43,-18,2,0]\n",
    "for i in set:\n",
    "    if i <-5 or i > 2:\n",
    "        print('Absolute value of %g is %g.' %(i,abs(i)))\n",
    "    else:\n",
    "        print(i, ' was not tested.')"
   ]
  },
  {
   "cell_type": "code",
   "execution_count": 168,
   "metadata": {},
   "outputs": [
    {
     "name": "stdout",
     "output_type": "stream",
     "text": [
      "3.3333333333333335\n",
      "3\n"
     ]
    },
    {
     "data": {
      "text/plain": [
       "1"
      ]
     },
     "execution_count": 168,
     "metadata": {},
     "output_type": "execute_result"
    }
   ],
   "source": [
    "a = 10\n",
    "b = 3\n",
    "print(a/b)\n",
    "print(int(a/b))\n",
    "a%b"
   ]
  },
  {
   "cell_type": "code",
   "execution_count": 176,
   "metadata": {},
   "outputs": [
    {
     "name": "stdout",
     "output_type": "stream",
     "text": [
      "-5 is an odd  number\n",
      "-4 is an even number\n",
      "-3 is an odd  number\n",
      "-2 is an even number\n",
      "-1 is an odd  number\n",
      " 0 is an even number\n",
      " 1 is an odd  number\n",
      " 2 is an even number\n",
      " 3 is an odd  number\n",
      " 4 is an even number\n",
      " 5 is an odd  number\n"
     ]
    }
   ],
   "source": [
    "# set = [-5,-4,-3,-2,-1,0,1,2,3,4,5]\n",
    "set = range(-5,6)\n",
    "\n",
    "for i in set:\n",
    "    firstChar = ' '\n",
    "    if i < 0:\n",
    "        firstChar = ''\n",
    "    if i%2 == 0:\n",
    "        print('%s%g is an even number' %(firstChar,i))\n",
    "    elif 1%2 != 0:\n",
    "        print('%s%g is an odd  number' %(firstChar,i))"
   ]
  },
  {
   "cell_type": "code",
   "execution_count": 187,
   "metadata": {},
   "outputs": [
    {
     "name": "stdout",
     "output_type": "stream",
     "text": [
      "Hello John.\n",
      "Give your name: Jack\n",
      "Input a number, Jack45\n",
      "5 goes into 45 9 times with a remainder of 0\n"
     ]
    }
   ],
   "source": [
    "def myfunction(name):\n",
    "    print('Hello %s.' %name)\n",
    "myfunction('John')\n",
    "\n",
    "name = input('Give your name: ')\n",
    "a = int(input('Input a number, %s' %name))\n",
    "\n",
    "def computeremainder(x,y):\n",
    "    divis = int(x/y)\n",
    "    remainder = x%y\n",
    "    print('%g goes into %g %g times with a remainder of %g' %(y,x,x/y,x%y))\n",
    "computeremainder(a, 5)"
   ]
  },
  {
   "cell_type": "code",
   "execution_count": 195,
   "metadata": {},
   "outputs": [
    {
     "name": "stdout",
     "output_type": "stream",
     "text": [
      "Please provide the numerator: 3\n",
      "Please provide the demoninator: 6\n",
      "Press \"1\" to compute 3^6 or \"2\" to compute \\frac{3}{6}2\n"
     ]
    },
    {
     "data": {
      "text/latex": [
       "$\\displaystyle \\frac{3}{6}=0.5$"
      ],
      "text/plain": [
       "<IPython.core.display.Math object>"
      ]
     },
     "metadata": {},
     "output_type": "display_data"
    }
   ],
   "source": [
    "x = int(input('Please provide the numerator: '))\n",
    "y = int(input('Please provide the demoninator: '))\n",
    "selection = int(input('Press \"1\" to compute %g^%g or \"2\" to compute \\\\frac{%g}{%g}' %(x,y,x,y)))\n",
    "\n",
    "if selection == 1:\n",
    "    ans1 = x**y\n",
    "    display(Math('%g^%g=%g' %(x,y,ans1)))\n",
    "elif selection == 2:\n",
    "    ans2 = x/y\n",
    "    display(Math('\\\\frac{%g}{%g}=%g' %(x,y,ans2)))\n",
    "else:\n",
    "    print('Invalid selection!')"
   ]
  },
  {
   "cell_type": "code",
   "execution_count": 204,
   "metadata": {},
   "outputs": [
    {
     "name": "stdout",
     "output_type": "stream",
     "text": [
      "Input X: 3.567\n",
      "Input Y: 5.766\n"
     ]
    },
    {
     "data": {
      "text/latex": [
       "$\\displaystyle \\text{Press \"1\" to compute }3.567^{5.766} \\text{or press \"2\" to compute }\\frac{3.567}{5.766}$"
      ],
      "text/plain": [
       "<IPython.core.display.Math object>"
      ]
     },
     "metadata": {},
     "output_type": "display_data"
    },
    {
     "name": "stdout",
     "output_type": "stream",
     "text": [
      " 2\n"
     ]
    },
    {
     "data": {
      "text/latex": [
       "$\\displaystyle \\frac{3.567}{5.766} = 0.618626$"
      ],
      "text/plain": [
       "<IPython.core.display.Math object>"
      ]
     },
     "metadata": {},
     "output_type": "display_data"
    }
   ],
   "source": [
    "def powers(x,y):\n",
    "    display(Math('%g^{%g}=%g' %(x,y,x**y)))\n",
    "    \n",
    "def division(x,y):\n",
    "    display(Math('\\\\frac{%g}{%g} = %g' %(x,y,x/y)))\n",
    "\n",
    "def mainFunction():\n",
    "    #get input from user\n",
    "    x = float(input('Input X: '))\n",
    "    y = float(input('Input Y: '))\n",
    "    \n",
    "    display(Math('\\\\text{Press \"1\" to compute }%g^{%g} \\\\text{or press \"2\" to compute }\\\\frac{%g}{%g}' %(x,y,x,y)))\n",
    "    switch = input(' ')\n",
    "    \n",
    "    if switch == '1':\n",
    "        powers(x,y)\n",
    "    elif switch == '2':\n",
    "        division(x,y)\n",
    "    else:\n",
    "        print('Invalid selection.')\n",
    "mainFunction()"
   ]
  },
  {
   "cell_type": "code",
   "execution_count": 218,
   "metadata": {},
   "outputs": [
    {
     "name": "stdout",
     "output_type": "stream",
     "text": [
      "Guess a number between 1 and 100\n",
      "50\n",
      "Guess lower\n",
      "Next: 25\n",
      "Guess lower\n",
      "Next: 13\n",
      "Guess higher\n",
      "Next: 18\n",
      "Got it! The number was 18 and your final guess was 18\n"
     ]
    }
   ],
   "source": [
    "from numpy import random\n",
    "\n",
    "a = random.randint(0,100)\n",
    "# b = int(input('Guess a number between 1 and 100'))\n",
    "print('Guess a number between 1 and 100')\n",
    "b = int(input())\n",
    "\n",
    "while(a != b):\n",
    "    if b < a:\n",
    "        # b = int(input('Guess higher!'))\n",
    "        print('Guess higher')\n",
    "    elif b > a:\n",
    "        # b = int(input('Guess lower!'))\n",
    "        print('Guess lower')\n",
    "    b = int(input('Next: '))\n",
    "\n",
    "if a == b:\n",
    "    print('Got it! The number was %g and your final guess was %g' %(a,b))"
   ]
  },
  {
   "cell_type": "code",
   "execution_count": 225,
   "metadata": {},
   "outputs": [
    {
     "data": {
      "text/latex": [
       "$\\displaystyle x_mm$"
      ],
      "text/plain": [
       "<IPython.core.display.Math object>"
      ]
     },
     "metadata": {},
     "output_type": "display_data"
    },
    {
     "data": {
      "text/latex": [
       "$\\displaystyle x_{mm}$"
      ],
      "text/plain": [
       "<IPython.core.display.Math object>"
      ]
     },
     "metadata": {},
     "output_type": "display_data"
    },
    {
     "data": {
      "text/latex": [
       "$\\displaystyle \\text{Ex.- }\\sigma = \\mu \\times \\sqrt{5x+3z-17u}$"
      ],
      "text/plain": [
       "<IPython.core.display.Math object>"
      ]
     },
     "metadata": {},
     "output_type": "display_data"
    }
   ],
   "source": [
    "# \"LaTex\" is what is inside Math's string:\n",
    "\n",
    "display(Math('x_mm'))\n",
    "\n",
    "display(Math('x_{mm}'))\n",
    "\n",
    "display(Math('\\\\text{Ex.- }\\\\sigma = \\\\mu \\\\times \\\\sqrt{5x+3z-17u}'))"
   ]
  },
  {
   "cell_type": "markdown",
   "metadata": {},
   "source": [
    "#### This is a markdown cell:\n",
    "\n",
    " This is <strong>markdown</strong>\n",
    " \n",
    " Only need one backslash if outside of encasing string:\n",
    " \n",
    " $$\\sqrt{5x+3z-17u}$$\n",
    " \n",
    " One dollar sign is same line: $\\\\sqrt{5x+3z-17u}$"
   ]
  },
  {
   "cell_type": "code",
   "execution_count": 227,
   "metadata": {},
   "outputs": [
    {
     "data": {
      "text/latex": [
       "$\\displaystyle \\sin(2\\pi f t + \\theta)$"
      ],
      "text/plain": [
       "<IPython.core.display.Math object>"
      ]
     },
     "metadata": {},
     "output_type": "display_data"
    }
   ],
   "source": [
    "display(Math('\\\\sin(2\\\\pi f t + \\\\theta)'))"
   ]
  }
 ],
 "metadata": {
  "kernelspec": {
   "display_name": "Python 3",
   "language": "python",
   "name": "python3"
  },
  "language_info": {
   "codemirror_mode": {
    "name": "ipython",
    "version": 3
   },
   "file_extension": ".py",
   "mimetype": "text/x-python",
   "name": "python",
   "nbconvert_exporter": "python",
   "pygments_lexer": "ipython3",
   "version": "3.8.5"
  }
 },
 "nbformat": 4,
 "nbformat_minor": 4
}
