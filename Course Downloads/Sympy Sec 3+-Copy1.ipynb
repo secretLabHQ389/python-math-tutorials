{
 "cells": [
  {
   "cell_type": "code",
   "execution_count": 4,
   "metadata": {},
   "outputs": [
    {
     "data": {
      "text/latex": [
       "$\\displaystyle \\frac{5}{9}=0.555556$"
      ],
      "text/plain": [
       "<IPython.core.display.Math object>"
      ]
     },
     "metadata": {},
     "output_type": "display_data"
    },
    {
     "data": {
      "image/png": "[encoded data removed]",
      "text/latex": [
       "$\\displaystyle 3$"
      ],
      "text/plain": [
       "3"
      ]
     },
     "metadata": {},
     "output_type": "display_data"
    },
    {
     "data": {
      "text/latex": [
       "$\\displaystyle 0.6$"
      ],
      "text/plain": [
       "<IPython.core.display.Math object>"
      ]
     },
     "metadata": {},
     "output_type": "display_data"
    }
   ],
   "source": [
    "# Warning- this entire document was autosaved as blank- don't expect Jupyter to save your work. \n",
    "# Starting doc over for Algebra1;\n",
    "\n",
    "# Three different ways to write functions:\n",
    "\n",
    "from IPython.display import display,Math\n",
    "import sympy as sym\n",
    "\n",
    "x = 5\n",
    "y = 9\n",
    "ans = 5/9\n",
    "# 1\n",
    "display(Math('\\\\frac{%g}{%g}=%g' %(x,y,ans)))\n",
    "# 2\n",
    "sym.init_printing()\n",
    "display(sym.sqrt(y))\n",
    "# 3\n",
    "expr = 3/x\n",
    "display(Math(sym.latex(expr)))"
   ]
  },
  {
   "cell_type": "code",
   "execution_count": 5,
   "metadata": {},
   "outputs": [],
   "source": [
    "# range uses index, so if need index and value, can use range then item[i] for value\n",
    "\n"
   ]
  }
 ],
 "metadata": {
  "kernelspec": {
   "display_name": "Python 3",
   "language": "python",
   "name": "python3"
  },
  "language_info": {
   "codemirror_mode": {
    "name": "ipython",
    "version": 3
   },
   "file_extension": ".py",
   "mimetype": "text/x-python",
   "name": "python",
   "nbconvert_exporter": "python",
   "pygments_lexer": "ipython3",
   "version": "3.8.5"
  }
 },
 "nbformat": 4,
 "nbformat_minor": 4
}
